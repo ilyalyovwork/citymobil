{
 "cells": [
  {
   "cell_type": "code",
   "execution_count": 1,
   "id": "a4a29521",
   "metadata": {},
   "outputs": [],
   "source": [
    "import numpy as np\n",
    "import matplotlib.pyplot as plt\n",
    "import seaborn as sns\n",
    "import pandas as pd"
   ]
  },
  {
   "cell_type": "code",
   "execution_count": 2,
   "id": "fdaef704",
   "metadata": {},
   "outputs": [],
   "source": [
    "import warnings\n",
    "warnings.filterwarnings(\"ignore\")"
   ]
  },
  {
   "cell_type": "code",
   "execution_count": 3,
   "id": "6eb807cd",
   "metadata": {},
   "outputs": [],
   "source": [
    "sns.set_palette('magma')\n",
    "sns.set_theme(style='darkgrid', rc={\"figure.figsize\": (15, 4)})"
   ]
  },
  {
   "cell_type": "code",
   "execution_count": 4,
   "id": "d0eb340e",
   "metadata": {},
   "outputs": [],
   "source": [
    "from tqdm import tqdm"
   ]
  },
  {
   "cell_type": "code",
   "execution_count": 5,
   "id": "8f7ac128",
   "metadata": {},
   "outputs": [],
   "source": [
    "from sklearn.preprocessing import OneHotEncoder"
   ]
  },
  {
   "cell_type": "code",
   "execution_count": 6,
   "id": "114ff9fe",
   "metadata": {},
   "outputs": [],
   "source": [
    "from sklearn.model_selection import train_test_split\n",
    "from sklearn.linear_model import LinearRegression"
   ]
  },
  {
   "cell_type": "code",
   "execution_count": 7,
   "id": "a83c6a6f",
   "metadata": {},
   "outputs": [],
   "source": [
    "from scipy import sparse"
   ]
  },
  {
   "cell_type": "code",
   "execution_count": 8,
   "id": "ac85e8c1",
   "metadata": {},
   "outputs": [],
   "source": [
    "import scipy.stats as stats"
   ]
  },
  {
   "cell_type": "code",
   "execution_count": 9,
   "id": "e617d9a6",
   "metadata": {},
   "outputs": [],
   "source": [
    "from sklearn.metrics import mean_absolute_error"
   ]
  },
  {
   "cell_type": "markdown",
   "id": "1ce603a4",
   "metadata": {},
   "source": [
    "# Первичный анализ"
   ]
  },
  {
   "cell_type": "code",
   "execution_count": 10,
   "id": "c489ab4e",
   "metadata": {},
   "outputs": [],
   "source": [
    "green_tripdata_2019_df = pd.read_csv('data/December_2019/green_tripdata_2019-12.csv')\n",
    "yellow_tripdata_2019_df = pd.read_csv('data/December_2019/yellow_tripdata_2019-12.csv')\n",
    "\n",
    "green_tripdata_2020_df = pd.read_csv('data/January_2020/green_tripdata_2020-01.csv')\n",
    "yellow_tripdata_2020_df = pd.read_csv('data/January_2020/yellow_tripdata_2020-01.csv')"
   ]
  },
  {
   "cell_type": "code",
   "execution_count": 11,
   "id": "e920364e",
   "metadata": {},
   "outputs": [
    {
     "data": {
      "text/html": [
       "<div>\n",
       "<style scoped>\n",
       "    .dataframe tbody tr th:only-of-type {\n",
       "        vertical-align: middle;\n",
       "    }\n",
       "\n",
       "    .dataframe tbody tr th {\n",
       "        vertical-align: top;\n",
       "    }\n",
       "\n",
       "    .dataframe thead th {\n",
       "        text-align: right;\n",
       "    }\n",
       "</style>\n",
       "<table border=\"1\" class=\"dataframe\">\n",
       "  <thead>\n",
       "    <tr style=\"text-align: right;\">\n",
       "      <th></th>\n",
       "      <th>VendorID</th>\n",
       "      <th>lpep_pickup_datetime</th>\n",
       "      <th>lpep_dropoff_datetime</th>\n",
       "      <th>store_and_fwd_flag</th>\n",
       "      <th>RatecodeID</th>\n",
       "      <th>PULocationID</th>\n",
       "      <th>DOLocationID</th>\n",
       "      <th>passenger_count</th>\n",
       "      <th>trip_distance</th>\n",
       "      <th>fare_amount</th>\n",
       "      <th>extra</th>\n",
       "      <th>mta_tax</th>\n",
       "      <th>tip_amount</th>\n",
       "      <th>tolls_amount</th>\n",
       "      <th>ehail_fee</th>\n",
       "      <th>improvement_surcharge</th>\n",
       "      <th>total_amount</th>\n",
       "      <th>payment_type</th>\n",
       "      <th>trip_type</th>\n",
       "      <th>congestion_surcharge</th>\n",
       "    </tr>\n",
       "  </thead>\n",
       "  <tbody>\n",
       "    <tr>\n",
       "      <th>0</th>\n",
       "      <td>2.0</td>\n",
       "      <td>2019-12-18 15:52:30</td>\n",
       "      <td>2019-12-18 15:54:39</td>\n",
       "      <td>N</td>\n",
       "      <td>1.0</td>\n",
       "      <td>264</td>\n",
       "      <td>264</td>\n",
       "      <td>5.0</td>\n",
       "      <td>0.00</td>\n",
       "      <td>3.5</td>\n",
       "      <td>0.50</td>\n",
       "      <td>0.5</td>\n",
       "      <td>0.01</td>\n",
       "      <td>0.0</td>\n",
       "      <td>NaN</td>\n",
       "      <td>0.3</td>\n",
       "      <td>4.81</td>\n",
       "      <td>1.0</td>\n",
       "      <td>1.0</td>\n",
       "      <td>0.00</td>\n",
       "    </tr>\n",
       "    <tr>\n",
       "      <th>1</th>\n",
       "      <td>2.0</td>\n",
       "      <td>2020-01-01 00:45:58</td>\n",
       "      <td>2020-01-01 00:56:39</td>\n",
       "      <td>N</td>\n",
       "      <td>5.0</td>\n",
       "      <td>66</td>\n",
       "      <td>65</td>\n",
       "      <td>2.0</td>\n",
       "      <td>1.28</td>\n",
       "      <td>20.0</td>\n",
       "      <td>0.00</td>\n",
       "      <td>0.0</td>\n",
       "      <td>4.06</td>\n",
       "      <td>0.0</td>\n",
       "      <td>NaN</td>\n",
       "      <td>0.3</td>\n",
       "      <td>24.36</td>\n",
       "      <td>1.0</td>\n",
       "      <td>2.0</td>\n",
       "      <td>0.00</td>\n",
       "    </tr>\n",
       "    <tr>\n",
       "      <th>2</th>\n",
       "      <td>2.0</td>\n",
       "      <td>2020-01-01 00:41:38</td>\n",
       "      <td>2020-01-01 00:52:49</td>\n",
       "      <td>N</td>\n",
       "      <td>1.0</td>\n",
       "      <td>181</td>\n",
       "      <td>228</td>\n",
       "      <td>1.0</td>\n",
       "      <td>2.47</td>\n",
       "      <td>10.5</td>\n",
       "      <td>0.50</td>\n",
       "      <td>0.5</td>\n",
       "      <td>3.54</td>\n",
       "      <td>0.0</td>\n",
       "      <td>NaN</td>\n",
       "      <td>0.3</td>\n",
       "      <td>15.34</td>\n",
       "      <td>1.0</td>\n",
       "      <td>1.0</td>\n",
       "      <td>0.00</td>\n",
       "    </tr>\n",
       "    <tr>\n",
       "      <th>3</th>\n",
       "      <td>1.0</td>\n",
       "      <td>2020-01-01 00:52:46</td>\n",
       "      <td>2020-01-01 01:14:21</td>\n",
       "      <td>N</td>\n",
       "      <td>1.0</td>\n",
       "      <td>129</td>\n",
       "      <td>263</td>\n",
       "      <td>2.0</td>\n",
       "      <td>6.30</td>\n",
       "      <td>21.0</td>\n",
       "      <td>3.25</td>\n",
       "      <td>0.5</td>\n",
       "      <td>0.00</td>\n",
       "      <td>0.0</td>\n",
       "      <td>NaN</td>\n",
       "      <td>0.3</td>\n",
       "      <td>25.05</td>\n",
       "      <td>2.0</td>\n",
       "      <td>1.0</td>\n",
       "      <td>2.75</td>\n",
       "    </tr>\n",
       "    <tr>\n",
       "      <th>4</th>\n",
       "      <td>1.0</td>\n",
       "      <td>2020-01-01 00:19:57</td>\n",
       "      <td>2020-01-01 00:30:56</td>\n",
       "      <td>N</td>\n",
       "      <td>1.0</td>\n",
       "      <td>210</td>\n",
       "      <td>150</td>\n",
       "      <td>1.0</td>\n",
       "      <td>2.30</td>\n",
       "      <td>10.0</td>\n",
       "      <td>0.50</td>\n",
       "      <td>0.5</td>\n",
       "      <td>0.00</td>\n",
       "      <td>0.0</td>\n",
       "      <td>NaN</td>\n",
       "      <td>0.3</td>\n",
       "      <td>11.30</td>\n",
       "      <td>1.0</td>\n",
       "      <td>1.0</td>\n",
       "      <td>0.00</td>\n",
       "    </tr>\n",
       "  </tbody>\n",
       "</table>\n",
       "</div>"
      ],
      "text/plain": [
       "   VendorID lpep_pickup_datetime lpep_dropoff_datetime store_and_fwd_flag  \\\n",
       "0       2.0  2019-12-18 15:52:30   2019-12-18 15:54:39                  N   \n",
       "1       2.0  2020-01-01 00:45:58   2020-01-01 00:56:39                  N   \n",
       "2       2.0  2020-01-01 00:41:38   2020-01-01 00:52:49                  N   \n",
       "3       1.0  2020-01-01 00:52:46   2020-01-01 01:14:21                  N   \n",
       "4       1.0  2020-01-01 00:19:57   2020-01-01 00:30:56                  N   \n",
       "\n",
       "   RatecodeID  PULocationID  DOLocationID  passenger_count  trip_distance  \\\n",
       "0         1.0           264           264              5.0           0.00   \n",
       "1         5.0            66            65              2.0           1.28   \n",
       "2         1.0           181           228              1.0           2.47   \n",
       "3         1.0           129           263              2.0           6.30   \n",
       "4         1.0           210           150              1.0           2.30   \n",
       "\n",
       "   fare_amount  extra  mta_tax  tip_amount  tolls_amount  ehail_fee  \\\n",
       "0          3.5   0.50      0.5        0.01           0.0        NaN   \n",
       "1         20.0   0.00      0.0        4.06           0.0        NaN   \n",
       "2         10.5   0.50      0.5        3.54           0.0        NaN   \n",
       "3         21.0   3.25      0.5        0.00           0.0        NaN   \n",
       "4         10.0   0.50      0.5        0.00           0.0        NaN   \n",
       "\n",
       "   improvement_surcharge  total_amount  payment_type  trip_type  \\\n",
       "0                    0.3          4.81           1.0        1.0   \n",
       "1                    0.3         24.36           1.0        2.0   \n",
       "2                    0.3         15.34           1.0        1.0   \n",
       "3                    0.3         25.05           2.0        1.0   \n",
       "4                    0.3         11.30           1.0        1.0   \n",
       "\n",
       "   congestion_surcharge  \n",
       "0                  0.00  \n",
       "1                  0.00  \n",
       "2                  0.00  \n",
       "3                  2.75  \n",
       "4                  0.00  "
      ]
     },
     "execution_count": 11,
     "metadata": {},
     "output_type": "execute_result"
    }
   ],
   "source": [
    "green_tripdata_2020_df.head()"
   ]
  },
  {
   "cell_type": "code",
   "execution_count": 12,
   "id": "2dbcf72f",
   "metadata": {},
   "outputs": [
    {
     "data": {
      "text/html": [
       "<div>\n",
       "<style scoped>\n",
       "    .dataframe tbody tr th:only-of-type {\n",
       "        vertical-align: middle;\n",
       "    }\n",
       "\n",
       "    .dataframe tbody tr th {\n",
       "        vertical-align: top;\n",
       "    }\n",
       "\n",
       "    .dataframe thead th {\n",
       "        text-align: right;\n",
       "    }\n",
       "</style>\n",
       "<table border=\"1\" class=\"dataframe\">\n",
       "  <thead>\n",
       "    <tr style=\"text-align: right;\">\n",
       "      <th></th>\n",
       "      <th>VendorID</th>\n",
       "      <th>lpep_pickup_datetime</th>\n",
       "      <th>lpep_dropoff_datetime</th>\n",
       "      <th>store_and_fwd_flag</th>\n",
       "      <th>RatecodeID</th>\n",
       "      <th>PULocationID</th>\n",
       "      <th>DOLocationID</th>\n",
       "      <th>passenger_count</th>\n",
       "      <th>trip_distance</th>\n",
       "      <th>fare_amount</th>\n",
       "      <th>extra</th>\n",
       "      <th>mta_tax</th>\n",
       "      <th>tip_amount</th>\n",
       "      <th>tolls_amount</th>\n",
       "      <th>ehail_fee</th>\n",
       "      <th>improvement_surcharge</th>\n",
       "      <th>total_amount</th>\n",
       "      <th>payment_type</th>\n",
       "      <th>trip_type</th>\n",
       "      <th>congestion_surcharge</th>\n",
       "    </tr>\n",
       "  </thead>\n",
       "  <tbody>\n",
       "    <tr>\n",
       "      <th>0</th>\n",
       "      <td>2.0</td>\n",
       "      <td>2019-12-18 15:52:30</td>\n",
       "      <td>2019-12-18 15:54:39</td>\n",
       "      <td>N</td>\n",
       "      <td>1.0</td>\n",
       "      <td>264</td>\n",
       "      <td>264</td>\n",
       "      <td>5.0</td>\n",
       "      <td>0.00</td>\n",
       "      <td>3.5</td>\n",
       "      <td>0.50</td>\n",
       "      <td>0.5</td>\n",
       "      <td>0.01</td>\n",
       "      <td>0.0</td>\n",
       "      <td>NaN</td>\n",
       "      <td>0.3</td>\n",
       "      <td>4.81</td>\n",
       "      <td>1.0</td>\n",
       "      <td>1.0</td>\n",
       "      <td>0.00</td>\n",
       "    </tr>\n",
       "    <tr>\n",
       "      <th>1</th>\n",
       "      <td>2.0</td>\n",
       "      <td>2020-01-01 00:45:58</td>\n",
       "      <td>2020-01-01 00:56:39</td>\n",
       "      <td>N</td>\n",
       "      <td>5.0</td>\n",
       "      <td>66</td>\n",
       "      <td>65</td>\n",
       "      <td>2.0</td>\n",
       "      <td>1.28</td>\n",
       "      <td>20.0</td>\n",
       "      <td>0.00</td>\n",
       "      <td>0.0</td>\n",
       "      <td>4.06</td>\n",
       "      <td>0.0</td>\n",
       "      <td>NaN</td>\n",
       "      <td>0.3</td>\n",
       "      <td>24.36</td>\n",
       "      <td>1.0</td>\n",
       "      <td>2.0</td>\n",
       "      <td>0.00</td>\n",
       "    </tr>\n",
       "    <tr>\n",
       "      <th>2</th>\n",
       "      <td>2.0</td>\n",
       "      <td>2020-01-01 00:41:38</td>\n",
       "      <td>2020-01-01 00:52:49</td>\n",
       "      <td>N</td>\n",
       "      <td>1.0</td>\n",
       "      <td>181</td>\n",
       "      <td>228</td>\n",
       "      <td>1.0</td>\n",
       "      <td>2.47</td>\n",
       "      <td>10.5</td>\n",
       "      <td>0.50</td>\n",
       "      <td>0.5</td>\n",
       "      <td>3.54</td>\n",
       "      <td>0.0</td>\n",
       "      <td>NaN</td>\n",
       "      <td>0.3</td>\n",
       "      <td>15.34</td>\n",
       "      <td>1.0</td>\n",
       "      <td>1.0</td>\n",
       "      <td>0.00</td>\n",
       "    </tr>\n",
       "    <tr>\n",
       "      <th>3</th>\n",
       "      <td>1.0</td>\n",
       "      <td>2020-01-01 00:52:46</td>\n",
       "      <td>2020-01-01 01:14:21</td>\n",
       "      <td>N</td>\n",
       "      <td>1.0</td>\n",
       "      <td>129</td>\n",
       "      <td>263</td>\n",
       "      <td>2.0</td>\n",
       "      <td>6.30</td>\n",
       "      <td>21.0</td>\n",
       "      <td>3.25</td>\n",
       "      <td>0.5</td>\n",
       "      <td>0.00</td>\n",
       "      <td>0.0</td>\n",
       "      <td>NaN</td>\n",
       "      <td>0.3</td>\n",
       "      <td>25.05</td>\n",
       "      <td>2.0</td>\n",
       "      <td>1.0</td>\n",
       "      <td>2.75</td>\n",
       "    </tr>\n",
       "    <tr>\n",
       "      <th>4</th>\n",
       "      <td>1.0</td>\n",
       "      <td>2020-01-01 00:19:57</td>\n",
       "      <td>2020-01-01 00:30:56</td>\n",
       "      <td>N</td>\n",
       "      <td>1.0</td>\n",
       "      <td>210</td>\n",
       "      <td>150</td>\n",
       "      <td>1.0</td>\n",
       "      <td>2.30</td>\n",
       "      <td>10.0</td>\n",
       "      <td>0.50</td>\n",
       "      <td>0.5</td>\n",
       "      <td>0.00</td>\n",
       "      <td>0.0</td>\n",
       "      <td>NaN</td>\n",
       "      <td>0.3</td>\n",
       "      <td>11.30</td>\n",
       "      <td>1.0</td>\n",
       "      <td>1.0</td>\n",
       "      <td>0.00</td>\n",
       "    </tr>\n",
       "  </tbody>\n",
       "</table>\n",
       "</div>"
      ],
      "text/plain": [
       "   VendorID lpep_pickup_datetime lpep_dropoff_datetime store_and_fwd_flag  \\\n",
       "0       2.0  2019-12-18 15:52:30   2019-12-18 15:54:39                  N   \n",
       "1       2.0  2020-01-01 00:45:58   2020-01-01 00:56:39                  N   \n",
       "2       2.0  2020-01-01 00:41:38   2020-01-01 00:52:49                  N   \n",
       "3       1.0  2020-01-01 00:52:46   2020-01-01 01:14:21                  N   \n",
       "4       1.0  2020-01-01 00:19:57   2020-01-01 00:30:56                  N   \n",
       "\n",
       "   RatecodeID  PULocationID  DOLocationID  passenger_count  trip_distance  \\\n",
       "0         1.0           264           264              5.0           0.00   \n",
       "1         5.0            66            65              2.0           1.28   \n",
       "2         1.0           181           228              1.0           2.47   \n",
       "3         1.0           129           263              2.0           6.30   \n",
       "4         1.0           210           150              1.0           2.30   \n",
       "\n",
       "   fare_amount  extra  mta_tax  tip_amount  tolls_amount  ehail_fee  \\\n",
       "0          3.5   0.50      0.5        0.01           0.0        NaN   \n",
       "1         20.0   0.00      0.0        4.06           0.0        NaN   \n",
       "2         10.5   0.50      0.5        3.54           0.0        NaN   \n",
       "3         21.0   3.25      0.5        0.00           0.0        NaN   \n",
       "4         10.0   0.50      0.5        0.00           0.0        NaN   \n",
       "\n",
       "   improvement_surcharge  total_amount  payment_type  trip_type  \\\n",
       "0                    0.3          4.81           1.0        1.0   \n",
       "1                    0.3         24.36           1.0        2.0   \n",
       "2                    0.3         15.34           1.0        1.0   \n",
       "3                    0.3         25.05           2.0        1.0   \n",
       "4                    0.3         11.30           1.0        1.0   \n",
       "\n",
       "   congestion_surcharge  \n",
       "0                  0.00  \n",
       "1                  0.00  \n",
       "2                  0.00  \n",
       "3                  2.75  \n",
       "4                  0.00  "
      ]
     },
     "execution_count": 12,
     "metadata": {},
     "output_type": "execute_result"
    }
   ],
   "source": [
    "green_tripdata_2020_df.head()"
   ]
  },
  {
   "cell_type": "code",
   "execution_count": 13,
   "id": "70091ca4",
   "metadata": {},
   "outputs": [
    {
     "data": {
      "text/html": [
       "<div>\n",
       "<style scoped>\n",
       "    .dataframe tbody tr th:only-of-type {\n",
       "        vertical-align: middle;\n",
       "    }\n",
       "\n",
       "    .dataframe tbody tr th {\n",
       "        vertical-align: top;\n",
       "    }\n",
       "\n",
       "    .dataframe thead th {\n",
       "        text-align: right;\n",
       "    }\n",
       "</style>\n",
       "<table border=\"1\" class=\"dataframe\">\n",
       "  <thead>\n",
       "    <tr style=\"text-align: right;\">\n",
       "      <th></th>\n",
       "      <th>VendorID</th>\n",
       "      <th>tpep_pickup_datetime</th>\n",
       "      <th>tpep_dropoff_datetime</th>\n",
       "      <th>passenger_count</th>\n",
       "      <th>trip_distance</th>\n",
       "      <th>RatecodeID</th>\n",
       "      <th>store_and_fwd_flag</th>\n",
       "      <th>PULocationID</th>\n",
       "      <th>DOLocationID</th>\n",
       "      <th>payment_type</th>\n",
       "      <th>fare_amount</th>\n",
       "      <th>extra</th>\n",
       "      <th>mta_tax</th>\n",
       "      <th>tip_amount</th>\n",
       "      <th>tolls_amount</th>\n",
       "      <th>improvement_surcharge</th>\n",
       "      <th>total_amount</th>\n",
       "      <th>congestion_surcharge</th>\n",
       "    </tr>\n",
       "  </thead>\n",
       "  <tbody>\n",
       "    <tr>\n",
       "      <th>0</th>\n",
       "      <td>1.0</td>\n",
       "      <td>2019-12-01 00:26:58</td>\n",
       "      <td>2019-12-01 00:41:45</td>\n",
       "      <td>1.0</td>\n",
       "      <td>4.2</td>\n",
       "      <td>1.0</td>\n",
       "      <td>N</td>\n",
       "      <td>142</td>\n",
       "      <td>116</td>\n",
       "      <td>2.0</td>\n",
       "      <td>14.5</td>\n",
       "      <td>3.0</td>\n",
       "      <td>0.5</td>\n",
       "      <td>0.0</td>\n",
       "      <td>0.0</td>\n",
       "      <td>0.3</td>\n",
       "      <td>18.3</td>\n",
       "      <td>2.5</td>\n",
       "    </tr>\n",
       "    <tr>\n",
       "      <th>1</th>\n",
       "      <td>1.0</td>\n",
       "      <td>2019-12-01 00:12:08</td>\n",
       "      <td>2019-12-01 00:12:14</td>\n",
       "      <td>1.0</td>\n",
       "      <td>0.0</td>\n",
       "      <td>1.0</td>\n",
       "      <td>N</td>\n",
       "      <td>145</td>\n",
       "      <td>145</td>\n",
       "      <td>2.0</td>\n",
       "      <td>2.5</td>\n",
       "      <td>0.5</td>\n",
       "      <td>0.5</td>\n",
       "      <td>0.0</td>\n",
       "      <td>0.0</td>\n",
       "      <td>0.3</td>\n",
       "      <td>3.8</td>\n",
       "      <td>0.0</td>\n",
       "    </tr>\n",
       "    <tr>\n",
       "      <th>2</th>\n",
       "      <td>1.0</td>\n",
       "      <td>2019-12-01 00:25:53</td>\n",
       "      <td>2019-12-01 00:26:04</td>\n",
       "      <td>1.0</td>\n",
       "      <td>0.0</td>\n",
       "      <td>1.0</td>\n",
       "      <td>N</td>\n",
       "      <td>145</td>\n",
       "      <td>145</td>\n",
       "      <td>2.0</td>\n",
       "      <td>2.5</td>\n",
       "      <td>0.5</td>\n",
       "      <td>0.5</td>\n",
       "      <td>0.0</td>\n",
       "      <td>0.0</td>\n",
       "      <td>0.3</td>\n",
       "      <td>3.8</td>\n",
       "      <td>0.0</td>\n",
       "    </tr>\n",
       "    <tr>\n",
       "      <th>3</th>\n",
       "      <td>1.0</td>\n",
       "      <td>2019-12-01 00:12:03</td>\n",
       "      <td>2019-12-01 00:33:19</td>\n",
       "      <td>2.0</td>\n",
       "      <td>9.4</td>\n",
       "      <td>1.0</td>\n",
       "      <td>N</td>\n",
       "      <td>138</td>\n",
       "      <td>25</td>\n",
       "      <td>1.0</td>\n",
       "      <td>28.5</td>\n",
       "      <td>0.5</td>\n",
       "      <td>0.5</td>\n",
       "      <td>10.0</td>\n",
       "      <td>0.0</td>\n",
       "      <td>0.3</td>\n",
       "      <td>39.8</td>\n",
       "      <td>0.0</td>\n",
       "    </tr>\n",
       "    <tr>\n",
       "      <th>4</th>\n",
       "      <td>1.0</td>\n",
       "      <td>2019-12-01 00:05:27</td>\n",
       "      <td>2019-12-01 00:16:32</td>\n",
       "      <td>2.0</td>\n",
       "      <td>1.6</td>\n",
       "      <td>1.0</td>\n",
       "      <td>N</td>\n",
       "      <td>161</td>\n",
       "      <td>237</td>\n",
       "      <td>2.0</td>\n",
       "      <td>9.0</td>\n",
       "      <td>3.0</td>\n",
       "      <td>0.5</td>\n",
       "      <td>0.0</td>\n",
       "      <td>0.0</td>\n",
       "      <td>0.3</td>\n",
       "      <td>12.8</td>\n",
       "      <td>2.5</td>\n",
       "    </tr>\n",
       "  </tbody>\n",
       "</table>\n",
       "</div>"
      ],
      "text/plain": [
       "   VendorID tpep_pickup_datetime tpep_dropoff_datetime  passenger_count  \\\n",
       "0       1.0  2019-12-01 00:26:58   2019-12-01 00:41:45              1.0   \n",
       "1       1.0  2019-12-01 00:12:08   2019-12-01 00:12:14              1.0   \n",
       "2       1.0  2019-12-01 00:25:53   2019-12-01 00:26:04              1.0   \n",
       "3       1.0  2019-12-01 00:12:03   2019-12-01 00:33:19              2.0   \n",
       "4       1.0  2019-12-01 00:05:27   2019-12-01 00:16:32              2.0   \n",
       "\n",
       "   trip_distance  RatecodeID store_and_fwd_flag  PULocationID  DOLocationID  \\\n",
       "0            4.2         1.0                  N           142           116   \n",
       "1            0.0         1.0                  N           145           145   \n",
       "2            0.0         1.0                  N           145           145   \n",
       "3            9.4         1.0                  N           138            25   \n",
       "4            1.6         1.0                  N           161           237   \n",
       "\n",
       "   payment_type  fare_amount  extra  mta_tax  tip_amount  tolls_amount  \\\n",
       "0           2.0         14.5    3.0      0.5         0.0           0.0   \n",
       "1           2.0          2.5    0.5      0.5         0.0           0.0   \n",
       "2           2.0          2.5    0.5      0.5         0.0           0.0   \n",
       "3           1.0         28.5    0.5      0.5        10.0           0.0   \n",
       "4           2.0          9.0    3.0      0.5         0.0           0.0   \n",
       "\n",
       "   improvement_surcharge  total_amount  congestion_surcharge  \n",
       "0                    0.3          18.3                   2.5  \n",
       "1                    0.3           3.8                   0.0  \n",
       "2                    0.3           3.8                   0.0  \n",
       "3                    0.3          39.8                   0.0  \n",
       "4                    0.3          12.8                   2.5  "
      ]
     },
     "execution_count": 13,
     "metadata": {},
     "output_type": "execute_result"
    }
   ],
   "source": [
    "yellow_tripdata_2019_df.head()"
   ]
  },
  {
   "cell_type": "code",
   "execution_count": 14,
   "id": "fd15da26",
   "metadata": {},
   "outputs": [
    {
     "data": {
      "text/html": [
       "<div>\n",
       "<style scoped>\n",
       "    .dataframe tbody tr th:only-of-type {\n",
       "        vertical-align: middle;\n",
       "    }\n",
       "\n",
       "    .dataframe tbody tr th {\n",
       "        vertical-align: top;\n",
       "    }\n",
       "\n",
       "    .dataframe thead th {\n",
       "        text-align: right;\n",
       "    }\n",
       "</style>\n",
       "<table border=\"1\" class=\"dataframe\">\n",
       "  <thead>\n",
       "    <tr style=\"text-align: right;\">\n",
       "      <th></th>\n",
       "      <th>VendorID</th>\n",
       "      <th>tpep_pickup_datetime</th>\n",
       "      <th>tpep_dropoff_datetime</th>\n",
       "      <th>passenger_count</th>\n",
       "      <th>trip_distance</th>\n",
       "      <th>RatecodeID</th>\n",
       "      <th>store_and_fwd_flag</th>\n",
       "      <th>PULocationID</th>\n",
       "      <th>DOLocationID</th>\n",
       "      <th>payment_type</th>\n",
       "      <th>fare_amount</th>\n",
       "      <th>extra</th>\n",
       "      <th>mta_tax</th>\n",
       "      <th>tip_amount</th>\n",
       "      <th>tolls_amount</th>\n",
       "      <th>improvement_surcharge</th>\n",
       "      <th>total_amount</th>\n",
       "      <th>congestion_surcharge</th>\n",
       "    </tr>\n",
       "  </thead>\n",
       "  <tbody>\n",
       "    <tr>\n",
       "      <th>0</th>\n",
       "      <td>1.0</td>\n",
       "      <td>2020-01-01 00:28:15</td>\n",
       "      <td>2020-01-01 00:33:03</td>\n",
       "      <td>1.0</td>\n",
       "      <td>1.2</td>\n",
       "      <td>1.0</td>\n",
       "      <td>N</td>\n",
       "      <td>238</td>\n",
       "      <td>239</td>\n",
       "      <td>1.0</td>\n",
       "      <td>6.0</td>\n",
       "      <td>3.0</td>\n",
       "      <td>0.5</td>\n",
       "      <td>1.47</td>\n",
       "      <td>0.0</td>\n",
       "      <td>0.3</td>\n",
       "      <td>11.27</td>\n",
       "      <td>2.5</td>\n",
       "    </tr>\n",
       "    <tr>\n",
       "      <th>1</th>\n",
       "      <td>1.0</td>\n",
       "      <td>2020-01-01 00:35:39</td>\n",
       "      <td>2020-01-01 00:43:04</td>\n",
       "      <td>1.0</td>\n",
       "      <td>1.2</td>\n",
       "      <td>1.0</td>\n",
       "      <td>N</td>\n",
       "      <td>239</td>\n",
       "      <td>238</td>\n",
       "      <td>1.0</td>\n",
       "      <td>7.0</td>\n",
       "      <td>3.0</td>\n",
       "      <td>0.5</td>\n",
       "      <td>1.50</td>\n",
       "      <td>0.0</td>\n",
       "      <td>0.3</td>\n",
       "      <td>12.30</td>\n",
       "      <td>2.5</td>\n",
       "    </tr>\n",
       "    <tr>\n",
       "      <th>2</th>\n",
       "      <td>1.0</td>\n",
       "      <td>2020-01-01 00:47:41</td>\n",
       "      <td>2020-01-01 00:53:52</td>\n",
       "      <td>1.0</td>\n",
       "      <td>0.6</td>\n",
       "      <td>1.0</td>\n",
       "      <td>N</td>\n",
       "      <td>238</td>\n",
       "      <td>238</td>\n",
       "      <td>1.0</td>\n",
       "      <td>6.0</td>\n",
       "      <td>3.0</td>\n",
       "      <td>0.5</td>\n",
       "      <td>1.00</td>\n",
       "      <td>0.0</td>\n",
       "      <td>0.3</td>\n",
       "      <td>10.80</td>\n",
       "      <td>2.5</td>\n",
       "    </tr>\n",
       "    <tr>\n",
       "      <th>3</th>\n",
       "      <td>1.0</td>\n",
       "      <td>2020-01-01 00:55:23</td>\n",
       "      <td>2020-01-01 01:00:14</td>\n",
       "      <td>1.0</td>\n",
       "      <td>0.8</td>\n",
       "      <td>1.0</td>\n",
       "      <td>N</td>\n",
       "      <td>238</td>\n",
       "      <td>151</td>\n",
       "      <td>1.0</td>\n",
       "      <td>5.5</td>\n",
       "      <td>0.5</td>\n",
       "      <td>0.5</td>\n",
       "      <td>1.36</td>\n",
       "      <td>0.0</td>\n",
       "      <td>0.3</td>\n",
       "      <td>8.16</td>\n",
       "      <td>0.0</td>\n",
       "    </tr>\n",
       "    <tr>\n",
       "      <th>4</th>\n",
       "      <td>2.0</td>\n",
       "      <td>2020-01-01 00:01:58</td>\n",
       "      <td>2020-01-01 00:04:16</td>\n",
       "      <td>1.0</td>\n",
       "      <td>0.0</td>\n",
       "      <td>1.0</td>\n",
       "      <td>N</td>\n",
       "      <td>193</td>\n",
       "      <td>193</td>\n",
       "      <td>2.0</td>\n",
       "      <td>3.5</td>\n",
       "      <td>0.5</td>\n",
       "      <td>0.5</td>\n",
       "      <td>0.00</td>\n",
       "      <td>0.0</td>\n",
       "      <td>0.3</td>\n",
       "      <td>4.80</td>\n",
       "      <td>0.0</td>\n",
       "    </tr>\n",
       "  </tbody>\n",
       "</table>\n",
       "</div>"
      ],
      "text/plain": [
       "   VendorID tpep_pickup_datetime tpep_dropoff_datetime  passenger_count  \\\n",
       "0       1.0  2020-01-01 00:28:15   2020-01-01 00:33:03              1.0   \n",
       "1       1.0  2020-01-01 00:35:39   2020-01-01 00:43:04              1.0   \n",
       "2       1.0  2020-01-01 00:47:41   2020-01-01 00:53:52              1.0   \n",
       "3       1.0  2020-01-01 00:55:23   2020-01-01 01:00:14              1.0   \n",
       "4       2.0  2020-01-01 00:01:58   2020-01-01 00:04:16              1.0   \n",
       "\n",
       "   trip_distance  RatecodeID store_and_fwd_flag  PULocationID  DOLocationID  \\\n",
       "0            1.2         1.0                  N           238           239   \n",
       "1            1.2         1.0                  N           239           238   \n",
       "2            0.6         1.0                  N           238           238   \n",
       "3            0.8         1.0                  N           238           151   \n",
       "4            0.0         1.0                  N           193           193   \n",
       "\n",
       "   payment_type  fare_amount  extra  mta_tax  tip_amount  tolls_amount  \\\n",
       "0           1.0          6.0    3.0      0.5        1.47           0.0   \n",
       "1           1.0          7.0    3.0      0.5        1.50           0.0   \n",
       "2           1.0          6.0    3.0      0.5        1.00           0.0   \n",
       "3           1.0          5.5    0.5      0.5        1.36           0.0   \n",
       "4           2.0          3.5    0.5      0.5        0.00           0.0   \n",
       "\n",
       "   improvement_surcharge  total_amount  congestion_surcharge  \n",
       "0                    0.3         11.27                   2.5  \n",
       "1                    0.3         12.30                   2.5  \n",
       "2                    0.3         10.80                   2.5  \n",
       "3                    0.3          8.16                   0.0  \n",
       "4                    0.3          4.80                   0.0  "
      ]
     },
     "execution_count": 14,
     "metadata": {},
     "output_type": "execute_result"
    }
   ],
   "source": [
    "yellow_tripdata_2020_df.head()"
   ]
  },
  {
   "cell_type": "code",
   "execution_count": 15,
   "id": "9e7d56f7",
   "metadata": {},
   "outputs": [
    {
     "data": {
      "text/plain": [
       "((447770, 20), (6405008, 18))"
      ]
     },
     "execution_count": 15,
     "metadata": {},
     "output_type": "execute_result"
    }
   ],
   "source": [
    "green_tripdata_2020_df.shape, yellow_tripdata_2020_df.shape"
   ]
  },
  {
   "cell_type": "code",
   "execution_count": 16,
   "id": "4a00607e",
   "metadata": {},
   "outputs": [
    {
     "data": {
      "text/plain": [
       "(array([], dtype=object), array([], dtype=object))"
      ]
     },
     "execution_count": 16,
     "metadata": {},
     "output_type": "execute_result"
    }
   ],
   "source": [
    "np.setdiff1d(green_tripdata_2019_df.columns, green_tripdata_2020_df.columns),\\\n",
    "np.setdiff1d(yellow_tripdata_2019_df.columns, yellow_tripdata_2020_df.columns)"
   ]
  },
  {
   "cell_type": "markdown",
   "id": "7d78539d",
   "metadata": {},
   "source": [
    "Признаки за 2019 и 2020 года в желтых и зеленых такси не различаются. Смержим их"
   ]
  },
  {
   "cell_type": "code",
   "execution_count": 17,
   "id": "965985fc",
   "metadata": {},
   "outputs": [],
   "source": [
    "green_tripdata_df = pd.concat([green_tripdata_2019_df, green_tripdata_2020_df], axis=0).reset_index(drop=True)\n",
    "yellow_tripdata_df = pd.concat([yellow_tripdata_2019_df, yellow_tripdata_2020_df], axis=0).reset_index(drop=True)"
   ]
  },
  {
   "cell_type": "code",
   "execution_count": 18,
   "id": "79dc6e90",
   "metadata": {},
   "outputs": [
    {
     "data": {
      "text/plain": [
       "((898397, 20), (13301325, 18))"
      ]
     },
     "execution_count": 18,
     "metadata": {},
     "output_type": "execute_result"
    }
   ],
   "source": [
    "green_tripdata_df.shape, yellow_tripdata_df.shape"
   ]
  },
  {
   "cell_type": "code",
   "execution_count": 19,
   "id": "cb045570",
   "metadata": {},
   "outputs": [
    {
     "data": {
      "text/plain": [
       "array(['ehail_fee', 'lpep_dropoff_datetime', 'lpep_pickup_datetime',\n",
       "       'trip_type'], dtype=object)"
      ]
     },
     "execution_count": 19,
     "metadata": {},
     "output_type": "execute_result"
    }
   ],
   "source": [
    "np.setdiff1d(green_tripdata_df.columns, yellow_tripdata_df.columns)"
   ]
  },
  {
   "cell_type": "markdown",
   "id": "4d7c478a",
   "metadata": {},
   "source": [
    "Видим, что количество признаков в таблицах различается на 2 (lpep... и tpep... один и тот же признак):\n",
    " - ehail_fee - непонятно, что такое (не описано в https://www1.nyc.gov/assets/tlc/downloads/pdf/data_dictionary_trip_records_green.pdf)\n",
    " - trip_type - 1/2 - Street-hail/Dispatch"
   ]
  },
  {
   "cell_type": "code",
   "execution_count": 20,
   "id": "f86fe621",
   "metadata": {},
   "outputs": [
    {
     "data": {
      "text/plain": [
       "(898397, 898397)"
      ]
     },
     "execution_count": 20,
     "metadata": {},
     "output_type": "execute_result"
    }
   ],
   "source": [
    "# видим, что признак ehail_fee - везде NaN. Поэтому выкинем его\n",
    "green_tripdata_df.ehail_fee.isnull().sum(), green_tripdata_df.shape[0]"
   ]
  },
  {
   "cell_type": "code",
   "execution_count": 21,
   "id": "04eb5ab8",
   "metadata": {},
   "outputs": [],
   "source": [
    "green_tripdata_df.drop('ehail_fee',axis=1, inplace=True)"
   ]
  },
  {
   "cell_type": "markdown",
   "id": "491af239",
   "metadata": {},
   "source": [
    "Смержим зеленые и желтые такси в одну таблицу:\n",
    " - создадим новый признак taxi_type={0,1}, где\n",
    "     - 0 - зеленое такси\n",
    "     - 1 - желтое такси\n",
    " - заменим tpep... и lpep... на pep\n",
    " - поскольку для желтых такси нет информации про trip_type, создадим для них признак trip_type со значениями 1,\n",
    "   поскольку \"традиционно\" (источник: https://www1.nyc.gov/assets/tlc/downloads/pdf/trip_record_user_guide.pdf) желтые такси вызывают на улице (Street-hail) "
   ]
  },
  {
   "cell_type": "code",
   "execution_count": 22,
   "id": "f727d102",
   "metadata": {},
   "outputs": [],
   "source": [
    "yellow_tripdata_df['taxi_type'] = 1\n",
    "green_tripdata_df['taxi_type'] = 0\n",
    "yellow_tripdata_df.rename(columns={'tpep_pickup_datetime': 'pickup_datetime',\n",
    "                                  'tpep_dropoff_datetime': 'dropoff_datetime'}, inplace=True)\n",
    "\n",
    "green_tripdata_df.rename(columns={'lpep_pickup_datetime': 'pickup_datetime',\n",
    "                                  'lpep_dropoff_datetime': 'dropoff_datetime'}, inplace=True)\n",
    "\n",
    "yellow_tripdata_df['trip_type'] = 1"
   ]
  },
  {
   "cell_type": "code",
   "execution_count": 23,
   "id": "c066e1bf",
   "metadata": {},
   "outputs": [
    {
     "data": {
      "text/plain": [
       "array([], dtype=object)"
      ]
     },
     "execution_count": 23,
     "metadata": {},
     "output_type": "execute_result"
    }
   ],
   "source": [
    "# убедимся, что все признаки совпадают\n",
    "np.setdiff1d(green_tripdata_df.columns, yellow_tripdata_df.columns)"
   ]
  },
  {
   "cell_type": "code",
   "execution_count": 24,
   "id": "e90f23dc",
   "metadata": {},
   "outputs": [],
   "source": [
    "tripdata_df = pd.concat([yellow_tripdata_df, green_tripdata_df], axis=0)"
   ]
  },
  {
   "cell_type": "code",
   "execution_count": 25,
   "id": "bc9fab51",
   "metadata": {},
   "outputs": [
    {
     "data": {
      "text/plain": [
       "(14199722, 20)"
      ]
     },
     "execution_count": 25,
     "metadata": {},
     "output_type": "execute_result"
    }
   ],
   "source": [
    "tripdata_df.shape"
   ]
  },
  {
   "cell_type": "code",
   "execution_count": 26,
   "id": "623ae9c5",
   "metadata": {},
   "outputs": [
    {
     "name": "stdout",
     "output_type": "stream",
     "text": [
      "<class 'pandas.core.frame.DataFrame'>\n",
      "Int64Index: 14199722 entries, 0 to 898396\n",
      "Data columns (total 20 columns):\n",
      " #   Column                 Dtype  \n",
      "---  ------                 -----  \n",
      " 0   VendorID               float64\n",
      " 1   pickup_datetime        object \n",
      " 2   dropoff_datetime       object \n",
      " 3   passenger_count        float64\n",
      " 4   trip_distance          float64\n",
      " 5   RatecodeID             float64\n",
      " 6   store_and_fwd_flag     object \n",
      " 7   PULocationID           int64  \n",
      " 8   DOLocationID           int64  \n",
      " 9   payment_type           float64\n",
      " 10  fare_amount            float64\n",
      " 11  extra                  float64\n",
      " 12  mta_tax                float64\n",
      " 13  tip_amount             float64\n",
      " 14  tolls_amount           float64\n",
      " 15  improvement_surcharge  float64\n",
      " 16  total_amount           float64\n",
      " 17  congestion_surcharge   float64\n",
      " 18  taxi_type              int64  \n",
      " 19  trip_type              float64\n",
      "dtypes: float64(14), int64(3), object(3)\n",
      "memory usage: 2.2+ GB\n"
     ]
    }
   ],
   "source": [
    "tripdata_df.info()"
   ]
  },
  {
   "cell_type": "markdown",
   "id": "b45821f9",
   "metadata": {},
   "source": [
    "Приведем признаки pickup_datetime и dropoff_datetime к типу timeseries."
   ]
  },
  {
   "cell_type": "code",
   "execution_count": 27,
   "id": "de6e7fc8",
   "metadata": {},
   "outputs": [],
   "source": [
    "tripdata_df['pickup_datetime'] = pd.to_datetime(tripdata_df['pickup_datetime'])\n",
    "tripdata_df['dropoff_datetime'] = pd.to_datetime(tripdata_df['dropoff_datetime'])"
   ]
  },
  {
   "cell_type": "code",
   "execution_count": 28,
   "id": "1d1aabf3",
   "metadata": {},
   "outputs": [
    {
     "name": "stdout",
     "output_type": "stream",
     "text": [
      "<class 'pandas.core.frame.DataFrame'>\n",
      "Int64Index: 14199722 entries, 0 to 898396\n",
      "Data columns (total 20 columns):\n",
      " #   Column                 Dtype         \n",
      "---  ------                 -----         \n",
      " 0   VendorID               float64       \n",
      " 1   pickup_datetime        datetime64[ns]\n",
      " 2   dropoff_datetime       datetime64[ns]\n",
      " 3   passenger_count        float64       \n",
      " 4   trip_distance          float64       \n",
      " 5   RatecodeID             float64       \n",
      " 6   store_and_fwd_flag     object        \n",
      " 7   PULocationID           int64         \n",
      " 8   DOLocationID           int64         \n",
      " 9   payment_type           float64       \n",
      " 10  fare_amount            float64       \n",
      " 11  extra                  float64       \n",
      " 12  mta_tax                float64       \n",
      " 13  tip_amount             float64       \n",
      " 14  tolls_amount           float64       \n",
      " 15  improvement_surcharge  float64       \n",
      " 16  total_amount           float64       \n",
      " 17  congestion_surcharge   float64       \n",
      " 18  taxi_type              int64         \n",
      " 19  trip_type              float64       \n",
      "dtypes: datetime64[ns](2), float64(14), int64(3), object(1)\n",
      "memory usage: 2.2+ GB\n"
     ]
    }
   ],
   "source": [
    "tripdata_df.info()"
   ]
  },
  {
   "cell_type": "markdown",
   "id": "6790279c",
   "metadata": {},
   "source": [
    "# 1) Как стоимость поездки скоррелирована с другими факторами? Как вы это можете объяснить?"
   ]
  },
  {
   "cell_type": "markdown",
   "id": "696febee",
   "metadata": {},
   "source": [
    "Под стоимостью поездки будем понимать значения признака total_amount - общая сумма поездки за исключением наличных чаевых (cash tips)"
   ]
  },
  {
   "cell_type": "markdown",
   "id": "bb9fea6d",
   "metadata": {},
   "source": [
    "Выделим следующие факторы из предоставленных данных, которые могут иметь смысл:\n",
    "- VendorID\n",
    "- pickup_date - конкретный день (без времени)\n",
    "- pickup_year\n",
    "- pickup_month\n",
    "- pickup_dayofweek\n",
    "- pickup_hour - в который час пассажир сел в машину\n",
    "- dropoff_date - конкретный день (без времени)\n",
    "- dropoff_year\n",
    "- dropoff_month\n",
    "- dropoff_dayofweek\n",
    "- dropoff_hour - в который час пассажир вышел из машины\n",
    "- trip_time - время поездки в секундах. Получается из dropoff_datetime.dt.time - pickup_datetime.dt.time\n",
    "- passenger_count\n",
    "- trip_distance\n",
    "- RatecodeID\n",
    "- store_and_fwd_flag\n",
    "- PULocationID\n",
    "- DOLocationID\n",
    "- way - путь из PULocationID в DOLocationID. Получается путем склеивания PULocationID с DOLocationID разделителем '_'\n",
    "- payment_type\n",
    "- fare_amount\n",
    "- extra\n",
    "- mta_tax\n",
    "- tip_amount\n",
    "- tolls_amount\n",
    "- improvement_surcharge\n",
    "- congestion_surcharge\n",
    "- taxi_type\n",
    "- trip_type"
   ]
  },
  {
   "cell_type": "code",
   "execution_count": 29,
   "id": "826550ac",
   "metadata": {},
   "outputs": [],
   "source": [
    "picked_features_df = tripdata_df[['VendorID','passenger_count','trip_distance','RatecodeID',\n",
    "                                         'store_and_fwd_flag','PULocationID','DOLocationID','payment_type',\n",
    "                                        'fare_amount','extra','mta_tax','tip_amount','tolls_amount',\n",
    "                                         'improvement_surcharge','congestion_surcharge','taxi_type','trip_type',\n",
    "                                 'total_amount']]"
   ]
  },
  {
   "cell_type": "code",
   "execution_count": 30,
   "id": "5d91aee6",
   "metadata": {},
   "outputs": [],
   "source": [
    "picked_features_df['pickup_date'] = tripdata_df['pickup_datetime'].dt.date\n",
    "picked_features_df['dropoff_date'] = tripdata_df['dropoff_datetime'].dt.date"
   ]
  },
  {
   "cell_type": "code",
   "execution_count": 31,
   "id": "b44db12c",
   "metadata": {},
   "outputs": [],
   "source": [
    "picked_features_df['pickup_year'] = tripdata_df['pickup_datetime'].dt.year\n",
    "picked_features_df['dropoff_year'] = tripdata_df['dropoff_datetime'].dt.year\n",
    "\n",
    "picked_features_df['pickup_month'] = tripdata_df['pickup_datetime'].dt.month\n",
    "picked_features_df['dropoff_month'] = tripdata_df['dropoff_datetime'].dt.month\n",
    "\n",
    "picked_features_df['pickup_dayofweek'] = tripdata_df['pickup_datetime'].dt.dayofweek\n",
    "picked_features_df['dropoff_dayofweek'] = tripdata_df['dropoff_datetime'].dt.dayofweek\n",
    "\n",
    "picked_features_df['pickup_hour'] = tripdata_df['pickup_datetime'].dt.hour\n",
    "picked_features_df['dropoff_hour'] = tripdata_df['dropoff_datetime'].dt.hour"
   ]
  },
  {
   "cell_type": "code",
   "execution_count": 32,
   "id": "759c275c",
   "metadata": {},
   "outputs": [],
   "source": [
    "picked_features_df['trip_time'] = (tripdata_df['dropoff_datetime'] -\\\n",
    "                                   tripdata_df['pickup_datetime']).dt.total_seconds()"
   ]
  },
  {
   "cell_type": "code",
   "execution_count": 33,
   "id": "58d133a8",
   "metadata": {},
   "outputs": [],
   "source": [
    "picked_features_df['way'] = tripdata_df['PULocationID'].astype(str) + '_' + tripdata_df['DOLocationID'].astype(str)"
   ]
  },
  {
   "cell_type": "code",
   "execution_count": 34,
   "id": "514f86c9",
   "metadata": {},
   "outputs": [
    {
     "data": {
      "text/html": [
       "<div>\n",
       "<style scoped>\n",
       "    .dataframe tbody tr th:only-of-type {\n",
       "        vertical-align: middle;\n",
       "    }\n",
       "\n",
       "    .dataframe tbody tr th {\n",
       "        vertical-align: top;\n",
       "    }\n",
       "\n",
       "    .dataframe thead th {\n",
       "        text-align: right;\n",
       "    }\n",
       "</style>\n",
       "<table border=\"1\" class=\"dataframe\">\n",
       "  <thead>\n",
       "    <tr style=\"text-align: right;\">\n",
       "      <th></th>\n",
       "      <th>VendorID</th>\n",
       "      <th>passenger_count</th>\n",
       "      <th>trip_distance</th>\n",
       "      <th>RatecodeID</th>\n",
       "      <th>store_and_fwd_flag</th>\n",
       "      <th>PULocationID</th>\n",
       "      <th>DOLocationID</th>\n",
       "      <th>payment_type</th>\n",
       "      <th>fare_amount</th>\n",
       "      <th>extra</th>\n",
       "      <th>...</th>\n",
       "      <th>pickup_year</th>\n",
       "      <th>dropoff_year</th>\n",
       "      <th>pickup_month</th>\n",
       "      <th>dropoff_month</th>\n",
       "      <th>pickup_dayofweek</th>\n",
       "      <th>dropoff_dayofweek</th>\n",
       "      <th>pickup_hour</th>\n",
       "      <th>dropoff_hour</th>\n",
       "      <th>trip_time</th>\n",
       "      <th>way</th>\n",
       "    </tr>\n",
       "  </thead>\n",
       "  <tbody>\n",
       "    <tr>\n",
       "      <th>0</th>\n",
       "      <td>1.0</td>\n",
       "      <td>1.0</td>\n",
       "      <td>4.2</td>\n",
       "      <td>1.0</td>\n",
       "      <td>N</td>\n",
       "      <td>142</td>\n",
       "      <td>116</td>\n",
       "      <td>2.0</td>\n",
       "      <td>14.5</td>\n",
       "      <td>3.0</td>\n",
       "      <td>...</td>\n",
       "      <td>2019</td>\n",
       "      <td>2019</td>\n",
       "      <td>12</td>\n",
       "      <td>12</td>\n",
       "      <td>6</td>\n",
       "      <td>6</td>\n",
       "      <td>0</td>\n",
       "      <td>0</td>\n",
       "      <td>887.0</td>\n",
       "      <td>142_116</td>\n",
       "    </tr>\n",
       "    <tr>\n",
       "      <th>1</th>\n",
       "      <td>1.0</td>\n",
       "      <td>1.0</td>\n",
       "      <td>0.0</td>\n",
       "      <td>1.0</td>\n",
       "      <td>N</td>\n",
       "      <td>145</td>\n",
       "      <td>145</td>\n",
       "      <td>2.0</td>\n",
       "      <td>2.5</td>\n",
       "      <td>0.5</td>\n",
       "      <td>...</td>\n",
       "      <td>2019</td>\n",
       "      <td>2019</td>\n",
       "      <td>12</td>\n",
       "      <td>12</td>\n",
       "      <td>6</td>\n",
       "      <td>6</td>\n",
       "      <td>0</td>\n",
       "      <td>0</td>\n",
       "      <td>6.0</td>\n",
       "      <td>145_145</td>\n",
       "    </tr>\n",
       "    <tr>\n",
       "      <th>2</th>\n",
       "      <td>1.0</td>\n",
       "      <td>1.0</td>\n",
       "      <td>0.0</td>\n",
       "      <td>1.0</td>\n",
       "      <td>N</td>\n",
       "      <td>145</td>\n",
       "      <td>145</td>\n",
       "      <td>2.0</td>\n",
       "      <td>2.5</td>\n",
       "      <td>0.5</td>\n",
       "      <td>...</td>\n",
       "      <td>2019</td>\n",
       "      <td>2019</td>\n",
       "      <td>12</td>\n",
       "      <td>12</td>\n",
       "      <td>6</td>\n",
       "      <td>6</td>\n",
       "      <td>0</td>\n",
       "      <td>0</td>\n",
       "      <td>11.0</td>\n",
       "      <td>145_145</td>\n",
       "    </tr>\n",
       "    <tr>\n",
       "      <th>3</th>\n",
       "      <td>1.0</td>\n",
       "      <td>2.0</td>\n",
       "      <td>9.4</td>\n",
       "      <td>1.0</td>\n",
       "      <td>N</td>\n",
       "      <td>138</td>\n",
       "      <td>25</td>\n",
       "      <td>1.0</td>\n",
       "      <td>28.5</td>\n",
       "      <td>0.5</td>\n",
       "      <td>...</td>\n",
       "      <td>2019</td>\n",
       "      <td>2019</td>\n",
       "      <td>12</td>\n",
       "      <td>12</td>\n",
       "      <td>6</td>\n",
       "      <td>6</td>\n",
       "      <td>0</td>\n",
       "      <td>0</td>\n",
       "      <td>1276.0</td>\n",
       "      <td>138_25</td>\n",
       "    </tr>\n",
       "    <tr>\n",
       "      <th>4</th>\n",
       "      <td>1.0</td>\n",
       "      <td>2.0</td>\n",
       "      <td>1.6</td>\n",
       "      <td>1.0</td>\n",
       "      <td>N</td>\n",
       "      <td>161</td>\n",
       "      <td>237</td>\n",
       "      <td>2.0</td>\n",
       "      <td>9.0</td>\n",
       "      <td>3.0</td>\n",
       "      <td>...</td>\n",
       "      <td>2019</td>\n",
       "      <td>2019</td>\n",
       "      <td>12</td>\n",
       "      <td>12</td>\n",
       "      <td>6</td>\n",
       "      <td>6</td>\n",
       "      <td>0</td>\n",
       "      <td>0</td>\n",
       "      <td>665.0</td>\n",
       "      <td>161_237</td>\n",
       "    </tr>\n",
       "  </tbody>\n",
       "</table>\n",
       "<p>5 rows × 30 columns</p>\n",
       "</div>"
      ],
      "text/plain": [
       "   VendorID  passenger_count  trip_distance  RatecodeID store_and_fwd_flag  \\\n",
       "0       1.0              1.0            4.2         1.0                  N   \n",
       "1       1.0              1.0            0.0         1.0                  N   \n",
       "2       1.0              1.0            0.0         1.0                  N   \n",
       "3       1.0              2.0            9.4         1.0                  N   \n",
       "4       1.0              2.0            1.6         1.0                  N   \n",
       "\n",
       "   PULocationID  DOLocationID  payment_type  fare_amount  extra  ...  \\\n",
       "0           142           116           2.0         14.5    3.0  ...   \n",
       "1           145           145           2.0          2.5    0.5  ...   \n",
       "2           145           145           2.0          2.5    0.5  ...   \n",
       "3           138            25           1.0         28.5    0.5  ...   \n",
       "4           161           237           2.0          9.0    3.0  ...   \n",
       "\n",
       "   pickup_year  dropoff_year  pickup_month  dropoff_month  pickup_dayofweek  \\\n",
       "0         2019          2019            12             12                 6   \n",
       "1         2019          2019            12             12                 6   \n",
       "2         2019          2019            12             12                 6   \n",
       "3         2019          2019            12             12                 6   \n",
       "4         2019          2019            12             12                 6   \n",
       "\n",
       "   dropoff_dayofweek  pickup_hour  dropoff_hour trip_time      way  \n",
       "0                  6            0             0     887.0  142_116  \n",
       "1                  6            0             0       6.0  145_145  \n",
       "2                  6            0             0      11.0  145_145  \n",
       "3                  6            0             0    1276.0   138_25  \n",
       "4                  6            0             0     665.0  161_237  \n",
       "\n",
       "[5 rows x 30 columns]"
      ]
     },
     "execution_count": 34,
     "metadata": {},
     "output_type": "execute_result"
    }
   ],
   "source": [
    "picked_features_df.head()"
   ]
  },
  {
   "cell_type": "code",
   "execution_count": 35,
   "id": "539d9ab7",
   "metadata": {},
   "outputs": [
    {
     "data": {
      "text/plain": [
       "VendorID                 323235\n",
       "passenger_count          323235\n",
       "trip_distance                 0\n",
       "RatecodeID               323235\n",
       "store_and_fwd_flag       323235\n",
       "PULocationID                  0\n",
       "DOLocationID                  0\n",
       "payment_type             323235\n",
       "fare_amount                   0\n",
       "extra                         0\n",
       "mta_tax                       0\n",
       "tip_amount                    0\n",
       "tolls_amount                  0\n",
       "improvement_surcharge         2\n",
       "congestion_surcharge     206778\n",
       "taxi_type                     0\n",
       "trip_type                206779\n",
       "total_amount                  0\n",
       "pickup_date                   0\n",
       "dropoff_date                  0\n",
       "pickup_year                   0\n",
       "dropoff_year                  0\n",
       "pickup_month                  0\n",
       "dropoff_month                 0\n",
       "pickup_dayofweek              0\n",
       "dropoff_dayofweek             0\n",
       "pickup_hour                   0\n",
       "dropoff_hour                  0\n",
       "trip_time                     0\n",
       "way                           0\n",
       "dtype: int64"
      ]
     },
     "execution_count": 35,
     "metadata": {},
     "output_type": "execute_result"
    }
   ],
   "source": [
    "# посмотрим на пропущенные значения\n",
    "picked_features_df.isnull().sum()"
   ]
  },
  {
   "cell_type": "markdown",
   "id": "79e440fd",
   "metadata": {},
   "source": [
    "Заменим пропущенные значения категориальных признаков (VendorID, RatecodeID, store_and_fwd_flag, payment_type, trip_type) на наиболее часто встречаемое значение (mode), количественных (improvement_surcharge, congestion_surcharge) средним значением (mean),\n",
    "порядковых (passenger_count) медианой (median)"
   ]
  },
  {
   "cell_type": "code",
   "execution_count": 36,
   "id": "e09f45bc",
   "metadata": {},
   "outputs": [],
   "source": [
    "picked_features_df['VendorID'].fillna(picked_features_df['VendorID'].mode()[0], inplace=True)\n",
    "picked_features_df['RatecodeID'].fillna(picked_features_df['RatecodeID'].mode()[0], inplace=True)\n",
    "picked_features_df['store_and_fwd_flag'].fillna(picked_features_df['store_and_fwd_flag'].mode()[0], inplace=True)\n",
    "picked_features_df['payment_type'].fillna(picked_features_df['payment_type'].mode()[0], inplace=True)\n",
    "picked_features_df['trip_type'].fillna(picked_features_df['trip_type'].mode()[0], inplace=True)\n",
    "\n",
    "picked_features_df['improvement_surcharge'].fillna(picked_features_df['improvement_surcharge'].mean(), inplace=True)\n",
    "picked_features_df['congestion_surcharge'].fillna(picked_features_df['congestion_surcharge'].mean(), inplace=True)\n",
    "\n",
    "picked_features_df['passenger_count'].fillna(picked_features_df['passenger_count'].median(), inplace=True)"
   ]
  },
  {
   "cell_type": "code",
   "execution_count": 37,
   "id": "933c5db1",
   "metadata": {},
   "outputs": [
    {
     "data": {
      "text/plain": [
       "VendorID                 0\n",
       "passenger_count          0\n",
       "trip_distance            0\n",
       "RatecodeID               0\n",
       "store_and_fwd_flag       0\n",
       "PULocationID             0\n",
       "DOLocationID             0\n",
       "payment_type             0\n",
       "fare_amount              0\n",
       "extra                    0\n",
       "mta_tax                  0\n",
       "tip_amount               0\n",
       "tolls_amount             0\n",
       "improvement_surcharge    0\n",
       "congestion_surcharge     0\n",
       "taxi_type                0\n",
       "trip_type                0\n",
       "total_amount             0\n",
       "pickup_date              0\n",
       "dropoff_date             0\n",
       "pickup_year              0\n",
       "dropoff_year             0\n",
       "pickup_month             0\n",
       "dropoff_month            0\n",
       "pickup_dayofweek         0\n",
       "dropoff_dayofweek        0\n",
       "pickup_hour              0\n",
       "dropoff_hour             0\n",
       "trip_time                0\n",
       "way                      0\n",
       "dtype: int64"
      ]
     },
     "execution_count": 37,
     "metadata": {},
     "output_type": "execute_result"
    }
   ],
   "source": [
    "picked_features_df.isnull().sum()"
   ]
  },
  {
   "cell_type": "markdown",
   "id": "4ccfb6e4",
   "metadata": {},
   "source": [
    "Посмотрим, соответсвуют ли значения таких категориальных признаков как VendorID, RatecodeID,payment_type,trip_type,store_and_fwd_flag описанию (https://www1.nyc.gov/assets/tlc/downloads/pdf/data_dictionary_trip_records_yellow.pdf)"
   ]
  },
  {
   "cell_type": "code",
   "execution_count": 38,
   "id": "31fb0bd7",
   "metadata": {},
   "outputs": [],
   "source": [
    "categorical_features = ['VendorID', 'RatecodeID', 'payment_type','trip_type','store_and_fwd_flag']"
   ]
  },
  {
   "cell_type": "code",
   "execution_count": 39,
   "id": "f465d488",
   "metadata": {},
   "outputs": [
    {
     "name": "stdout",
     "output_type": "stream",
     "text": [
      "VendorID: [1. 2.]\n",
      "RatecodeID: [ 1.  2.  5.  4.  3. 99.  6.]\n",
      "payment_type: [2. 1. 3. 4. 5.]\n",
      "trip_type: [1. 2.]\n",
      "store_and_fwd_flag: ['N' 'Y']\n"
     ]
    }
   ],
   "source": [
    "for feature in categorical_features:\n",
    "    print('{}: {}'.format(feature, picked_features_df[feature].unique()))"
   ]
  },
  {
   "cell_type": "markdown",
   "id": "d61f120d",
   "metadata": {},
   "source": [
    "Видим, что RateCodeID имеет непонятное значение 99, поэтому будем считать его NaN и заменим как и ранее модой"
   ]
  },
  {
   "cell_type": "code",
   "execution_count": 40,
   "id": "d3e2bef1",
   "metadata": {},
   "outputs": [],
   "source": [
    "picked_features_df.loc[picked_features_df[picked_features_df['RatecodeID'] == 99].index,'RatecodeID'] =\\\n",
    "picked_features_df['RatecodeID'].mode()[0]"
   ]
  },
  {
   "cell_type": "code",
   "execution_count": 41,
   "id": "160c8e45",
   "metadata": {},
   "outputs": [
    {
     "data": {
      "text/plain": [
       "array([1., 2., 5., 4., 3., 6.])"
      ]
     },
     "execution_count": 41,
     "metadata": {},
     "output_type": "execute_result"
    }
   ],
   "source": [
    "picked_features_df['RatecodeID'].unique()"
   ]
  },
  {
   "cell_type": "markdown",
   "id": "0d096023",
   "metadata": {},
   "source": [
    "Заметим, что данные встречаются не только за декабрь 2019 года или январь 2020"
   ]
  },
  {
   "cell_type": "code",
   "execution_count": 42,
   "id": "31ad20ea",
   "metadata": {},
   "outputs": [
    {
     "data": {
      "text/html": [
       "<div>\n",
       "<style scoped>\n",
       "    .dataframe tbody tr th:only-of-type {\n",
       "        vertical-align: middle;\n",
       "    }\n",
       "\n",
       "    .dataframe tbody tr th {\n",
       "        vertical-align: top;\n",
       "    }\n",
       "\n",
       "    .dataframe thead th {\n",
       "        text-align: right;\n",
       "    }\n",
       "</style>\n",
       "<table border=\"1\" class=\"dataframe\">\n",
       "  <thead>\n",
       "    <tr style=\"text-align: right;\">\n",
       "      <th></th>\n",
       "      <th>VendorID</th>\n",
       "      <th>passenger_count</th>\n",
       "      <th>trip_distance</th>\n",
       "      <th>RatecodeID</th>\n",
       "      <th>store_and_fwd_flag</th>\n",
       "      <th>PULocationID</th>\n",
       "      <th>DOLocationID</th>\n",
       "      <th>payment_type</th>\n",
       "      <th>fare_amount</th>\n",
       "      <th>extra</th>\n",
       "      <th>...</th>\n",
       "      <th>pickup_year</th>\n",
       "      <th>dropoff_year</th>\n",
       "      <th>pickup_month</th>\n",
       "      <th>dropoff_month</th>\n",
       "      <th>pickup_dayofweek</th>\n",
       "      <th>dropoff_dayofweek</th>\n",
       "      <th>pickup_hour</th>\n",
       "      <th>dropoff_hour</th>\n",
       "      <th>trip_time</th>\n",
       "      <th>way</th>\n",
       "    </tr>\n",
       "  </thead>\n",
       "  <tbody>\n",
       "    <tr>\n",
       "      <th>11</th>\n",
       "      <td>2.0</td>\n",
       "      <td>1.0</td>\n",
       "      <td>2.12</td>\n",
       "      <td>1.0</td>\n",
       "      <td>N</td>\n",
       "      <td>234</td>\n",
       "      <td>230</td>\n",
       "      <td>2.0</td>\n",
       "      <td>12.00</td>\n",
       "      <td>0.50</td>\n",
       "      <td>...</td>\n",
       "      <td>2019</td>\n",
       "      <td>2019</td>\n",
       "      <td>11</td>\n",
       "      <td>12</td>\n",
       "      <td>5</td>\n",
       "      <td>6</td>\n",
       "      <td>23</td>\n",
       "      <td>0</td>\n",
       "      <td>912.0</td>\n",
       "      <td>234_230</td>\n",
       "    </tr>\n",
       "    <tr>\n",
       "      <th>243</th>\n",
       "      <td>2.0</td>\n",
       "      <td>1.0</td>\n",
       "      <td>1.57</td>\n",
       "      <td>1.0</td>\n",
       "      <td>N</td>\n",
       "      <td>162</td>\n",
       "      <td>236</td>\n",
       "      <td>1.0</td>\n",
       "      <td>6.50</td>\n",
       "      <td>0.50</td>\n",
       "      <td>...</td>\n",
       "      <td>2019</td>\n",
       "      <td>2019</td>\n",
       "      <td>11</td>\n",
       "      <td>12</td>\n",
       "      <td>5</td>\n",
       "      <td>6</td>\n",
       "      <td>23</td>\n",
       "      <td>0</td>\n",
       "      <td>301.0</td>\n",
       "      <td>162_236</td>\n",
       "    </tr>\n",
       "    <tr>\n",
       "      <th>247</th>\n",
       "      <td>2.0</td>\n",
       "      <td>1.0</td>\n",
       "      <td>1.37</td>\n",
       "      <td>1.0</td>\n",
       "      <td>N</td>\n",
       "      <td>127</td>\n",
       "      <td>243</td>\n",
       "      <td>2.0</td>\n",
       "      <td>6.50</td>\n",
       "      <td>0.50</td>\n",
       "      <td>...</td>\n",
       "      <td>2019</td>\n",
       "      <td>2019</td>\n",
       "      <td>11</td>\n",
       "      <td>12</td>\n",
       "      <td>5</td>\n",
       "      <td>6</td>\n",
       "      <td>23</td>\n",
       "      <td>0</td>\n",
       "      <td>394.0</td>\n",
       "      <td>127_243</td>\n",
       "    </tr>\n",
       "    <tr>\n",
       "      <th>517</th>\n",
       "      <td>2.0</td>\n",
       "      <td>1.0</td>\n",
       "      <td>3.30</td>\n",
       "      <td>1.0</td>\n",
       "      <td>N</td>\n",
       "      <td>144</td>\n",
       "      <td>162</td>\n",
       "      <td>2.0</td>\n",
       "      <td>13.50</td>\n",
       "      <td>0.50</td>\n",
       "      <td>...</td>\n",
       "      <td>2019</td>\n",
       "      <td>2019</td>\n",
       "      <td>11</td>\n",
       "      <td>12</td>\n",
       "      <td>5</td>\n",
       "      <td>6</td>\n",
       "      <td>23</td>\n",
       "      <td>0</td>\n",
       "      <td>1006.0</td>\n",
       "      <td>144_162</td>\n",
       "    </tr>\n",
       "    <tr>\n",
       "      <th>559</th>\n",
       "      <td>2.0</td>\n",
       "      <td>1.0</td>\n",
       "      <td>0.71</td>\n",
       "      <td>1.0</td>\n",
       "      <td>N</td>\n",
       "      <td>231</td>\n",
       "      <td>13</td>\n",
       "      <td>2.0</td>\n",
       "      <td>5.00</td>\n",
       "      <td>0.50</td>\n",
       "      <td>...</td>\n",
       "      <td>2019</td>\n",
       "      <td>2019</td>\n",
       "      <td>11</td>\n",
       "      <td>12</td>\n",
       "      <td>5</td>\n",
       "      <td>6</td>\n",
       "      <td>23</td>\n",
       "      <td>0</td>\n",
       "      <td>260.0</td>\n",
       "      <td>231_13</td>\n",
       "    </tr>\n",
       "    <tr>\n",
       "      <th>...</th>\n",
       "      <td>...</td>\n",
       "      <td>...</td>\n",
       "      <td>...</td>\n",
       "      <td>...</td>\n",
       "      <td>...</td>\n",
       "      <td>...</td>\n",
       "      <td>...</td>\n",
       "      <td>...</td>\n",
       "      <td>...</td>\n",
       "      <td>...</td>\n",
       "      <td>...</td>\n",
       "      <td>...</td>\n",
       "      <td>...</td>\n",
       "      <td>...</td>\n",
       "      <td>...</td>\n",
       "      <td>...</td>\n",
       "      <td>...</td>\n",
       "      <td>...</td>\n",
       "      <td>...</td>\n",
       "      <td>...</td>\n",
       "      <td>...</td>\n",
       "    </tr>\n",
       "    <tr>\n",
       "      <th>898388</th>\n",
       "      <td>2.0</td>\n",
       "      <td>1.0</td>\n",
       "      <td>9.77</td>\n",
       "      <td>1.0</td>\n",
       "      <td>N</td>\n",
       "      <td>21</td>\n",
       "      <td>222</td>\n",
       "      <td>1.0</td>\n",
       "      <td>32.96</td>\n",
       "      <td>2.75</td>\n",
       "      <td>...</td>\n",
       "      <td>2020</td>\n",
       "      <td>2020</td>\n",
       "      <td>1</td>\n",
       "      <td>2</td>\n",
       "      <td>4</td>\n",
       "      <td>5</td>\n",
       "      <td>23</td>\n",
       "      <td>0</td>\n",
       "      <td>1260.0</td>\n",
       "      <td>21_222</td>\n",
       "    </tr>\n",
       "    <tr>\n",
       "      <th>898393</th>\n",
       "      <td>2.0</td>\n",
       "      <td>1.0</td>\n",
       "      <td>6.55</td>\n",
       "      <td>1.0</td>\n",
       "      <td>N</td>\n",
       "      <td>81</td>\n",
       "      <td>69</td>\n",
       "      <td>1.0</td>\n",
       "      <td>27.27</td>\n",
       "      <td>2.75</td>\n",
       "      <td>...</td>\n",
       "      <td>2020</td>\n",
       "      <td>2020</td>\n",
       "      <td>1</td>\n",
       "      <td>2</td>\n",
       "      <td>4</td>\n",
       "      <td>5</td>\n",
       "      <td>23</td>\n",
       "      <td>0</td>\n",
       "      <td>1560.0</td>\n",
       "      <td>81_69</td>\n",
       "    </tr>\n",
       "    <tr>\n",
       "      <th>898394</th>\n",
       "      <td>2.0</td>\n",
       "      <td>1.0</td>\n",
       "      <td>3.34</td>\n",
       "      <td>1.0</td>\n",
       "      <td>N</td>\n",
       "      <td>244</td>\n",
       "      <td>241</td>\n",
       "      <td>1.0</td>\n",
       "      <td>25.95</td>\n",
       "      <td>2.75</td>\n",
       "      <td>...</td>\n",
       "      <td>2020</td>\n",
       "      <td>2020</td>\n",
       "      <td>1</td>\n",
       "      <td>2</td>\n",
       "      <td>4</td>\n",
       "      <td>5</td>\n",
       "      <td>23</td>\n",
       "      <td>0</td>\n",
       "      <td>780.0</td>\n",
       "      <td>244_241</td>\n",
       "    </tr>\n",
       "    <tr>\n",
       "      <th>898395</th>\n",
       "      <td>2.0</td>\n",
       "      <td>1.0</td>\n",
       "      <td>8.92</td>\n",
       "      <td>1.0</td>\n",
       "      <td>N</td>\n",
       "      <td>68</td>\n",
       "      <td>17</td>\n",
       "      <td>1.0</td>\n",
       "      <td>30.39</td>\n",
       "      <td>2.75</td>\n",
       "      <td>...</td>\n",
       "      <td>2020</td>\n",
       "      <td>2020</td>\n",
       "      <td>1</td>\n",
       "      <td>2</td>\n",
       "      <td>4</td>\n",
       "      <td>5</td>\n",
       "      <td>23</td>\n",
       "      <td>0</td>\n",
       "      <td>2220.0</td>\n",
       "      <td>68_17</td>\n",
       "    </tr>\n",
       "    <tr>\n",
       "      <th>898396</th>\n",
       "      <td>2.0</td>\n",
       "      <td>1.0</td>\n",
       "      <td>13.51</td>\n",
       "      <td>1.0</td>\n",
       "      <td>N</td>\n",
       "      <td>22</td>\n",
       "      <td>124</td>\n",
       "      <td>1.0</td>\n",
       "      <td>42.20</td>\n",
       "      <td>2.75</td>\n",
       "      <td>...</td>\n",
       "      <td>2020</td>\n",
       "      <td>2020</td>\n",
       "      <td>1</td>\n",
       "      <td>2</td>\n",
       "      <td>4</td>\n",
       "      <td>5</td>\n",
       "      <td>23</td>\n",
       "      <td>0</td>\n",
       "      <td>1500.0</td>\n",
       "      <td>22_124</td>\n",
       "    </tr>\n",
       "  </tbody>\n",
       "</table>\n",
       "<p>4742 rows × 30 columns</p>\n",
       "</div>"
      ],
      "text/plain": [
       "        VendorID  passenger_count  trip_distance  RatecodeID  \\\n",
       "11           2.0              1.0           2.12         1.0   \n",
       "243          2.0              1.0           1.57         1.0   \n",
       "247          2.0              1.0           1.37         1.0   \n",
       "517          2.0              1.0           3.30         1.0   \n",
       "559          2.0              1.0           0.71         1.0   \n",
       "...          ...              ...            ...         ...   \n",
       "898388       2.0              1.0           9.77         1.0   \n",
       "898393       2.0              1.0           6.55         1.0   \n",
       "898394       2.0              1.0           3.34         1.0   \n",
       "898395       2.0              1.0           8.92         1.0   \n",
       "898396       2.0              1.0          13.51         1.0   \n",
       "\n",
       "       store_and_fwd_flag  PULocationID  DOLocationID  payment_type  \\\n",
       "11                      N           234           230           2.0   \n",
       "243                     N           162           236           1.0   \n",
       "247                     N           127           243           2.0   \n",
       "517                     N           144           162           2.0   \n",
       "559                     N           231            13           2.0   \n",
       "...                   ...           ...           ...           ...   \n",
       "898388                  N            21           222           1.0   \n",
       "898393                  N            81            69           1.0   \n",
       "898394                  N           244           241           1.0   \n",
       "898395                  N            68            17           1.0   \n",
       "898396                  N            22           124           1.0   \n",
       "\n",
       "        fare_amount  extra  ...  pickup_year  dropoff_year  pickup_month  \\\n",
       "11            12.00   0.50  ...         2019          2019            11   \n",
       "243            6.50   0.50  ...         2019          2019            11   \n",
       "247            6.50   0.50  ...         2019          2019            11   \n",
       "517           13.50   0.50  ...         2019          2019            11   \n",
       "559            5.00   0.50  ...         2019          2019            11   \n",
       "...             ...    ...  ...          ...           ...           ...   \n",
       "898388        32.96   2.75  ...         2020          2020             1   \n",
       "898393        27.27   2.75  ...         2020          2020             1   \n",
       "898394        25.95   2.75  ...         2020          2020             1   \n",
       "898395        30.39   2.75  ...         2020          2020             1   \n",
       "898396        42.20   2.75  ...         2020          2020             1   \n",
       "\n",
       "        dropoff_month  pickup_dayofweek  dropoff_dayofweek  pickup_hour  \\\n",
       "11                 12                 5                  6           23   \n",
       "243                12                 5                  6           23   \n",
       "247                12                 5                  6           23   \n",
       "517                12                 5                  6           23   \n",
       "559                12                 5                  6           23   \n",
       "...               ...               ...                ...          ...   \n",
       "898388              2                 4                  5           23   \n",
       "898393              2                 4                  5           23   \n",
       "898394              2                 4                  5           23   \n",
       "898395              2                 4                  5           23   \n",
       "898396              2                 4                  5           23   \n",
       "\n",
       "        dropoff_hour trip_time      way  \n",
       "11                 0     912.0  234_230  \n",
       "243                0     301.0  162_236  \n",
       "247                0     394.0  127_243  \n",
       "517                0    1006.0  144_162  \n",
       "559                0     260.0   231_13  \n",
       "...              ...       ...      ...  \n",
       "898388             0    1260.0   21_222  \n",
       "898393             0    1560.0    81_69  \n",
       "898394             0     780.0  244_241  \n",
       "898395             0    2220.0    68_17  \n",
       "898396             0    1500.0   22_124  \n",
       "\n",
       "[4742 rows x 30 columns]"
      ]
     },
     "execution_count": 42,
     "metadata": {},
     "output_type": "execute_result"
    }
   ],
   "source": [
    "picked_features_df[~(((picked_features_df['pickup_year'] == 2019) & (picked_features_df['pickup_month'] == 12) &\\\n",
    "                  (picked_features_df['dropoff_year'] == 2019) & (picked_features_df['dropoff_month'] == 12)) |\\\n",
    "                    ((picked_features_df['pickup_year'] == 2020) & (picked_features_df['pickup_month'] == 1) &\\\n",
    "                  (picked_features_df['dropoff_year'] == 2020) & (picked_features_df['dropoff_month'] == 1)))]"
   ]
  },
  {
   "cell_type": "markdown",
   "id": "80fb7f17",
   "metadata": {},
   "source": [
    "Удалим их"
   ]
  },
  {
   "cell_type": "code",
   "execution_count": 43,
   "id": "ce6266ec",
   "metadata": {},
   "outputs": [],
   "source": [
    "picked_features_df = picked_features_df[(\\\n",
    "                    (picked_features_df['pickup_year'] == 2019) & (picked_features_df['pickup_month'] == 12) &\\\n",
    "                  (picked_features_df['dropoff_year'] == 2019) & (picked_features_df['dropoff_month'] == 12)) |\\\n",
    "                    ((picked_features_df['pickup_year'] == 2020) & (picked_features_df['pickup_month'] == 1) &\\\n",
    "                  (picked_features_df['dropoff_year'] == 2020) & (picked_features_df['dropoff_month'] == 1))]"
   ]
  },
  {
   "cell_type": "markdown",
   "id": "307545ce",
   "metadata": {},
   "source": [
    "Чтобы оценить взаимосвязь выделенных факторов с целевой переменной обучим линейную регрессию и посмотрим на ее коэффициенты"
   ]
  },
  {
   "cell_type": "markdown",
   "id": "1f31e48d",
   "metadata": {},
   "source": [
    "Для этого необходимо кодировать категориальные признаки (VendorID, RatecodeID, PULocationID,\n",
    "DOLocationID, payment_type, way, pickup_date, dropoff_date, store_and_fwd_flag, taxi_type) OneHot кодированием, чтоб они имели смысл для линейной регрессии."
   ]
  },
  {
   "cell_type": "code",
   "execution_count": 44,
   "id": "be51b97a",
   "metadata": {},
   "outputs": [],
   "source": [
    "data_for_linear_reg = picked_features_df.reset_index(drop=True)"
   ]
  },
  {
   "cell_type": "code",
   "execution_count": 45,
   "id": "0ffb6f12",
   "metadata": {},
   "outputs": [],
   "source": [
    "encoder = OneHotEncoder()\n",
    "ohe_encode_columns = ['VendorID', 'RatecodeID', 'PULocationID', 'DOLocationID', 'payment_type', 'way',\n",
    "                      'pickup_date', 'dropoff_date','trip_type','store_and_fwd_flag','taxi_type']\n",
    "ohe_encode_features_sparse = encoder.fit_transform(picked_features_df[ohe_encode_columns])"
   ]
  },
  {
   "cell_type": "code",
   "execution_count": 46,
   "id": "19a9cab0",
   "metadata": {},
   "outputs": [],
   "source": [
    "# заводим список названий oheencoder признаков\n",
    "ohe_encode_columns_sparse = []\n",
    "for column in ohe_encode_columns:\n",
    "    ohe_encode_columns_sparse.extend([column + '=' + str(i) for i in picked_features_df[column].unique()])"
   ]
  },
  {
   "cell_type": "code",
   "execution_count": 47,
   "id": "471635a9",
   "metadata": {},
   "outputs": [],
   "source": [
    "data_for_linear_reg.drop(ohe_encode_columns, axis=1, inplace=True)"
   ]
  },
  {
   "cell_type": "code",
   "execution_count": 48,
   "id": "bfdaccbb",
   "metadata": {},
   "outputs": [],
   "source": [
    "sparse_learn_data = sparse.hstack([ohe_encode_features_sparse,\\\n",
    "                                   data_for_linear_reg.drop('total_amount',axis=1).to_numpy()]).tocsr()"
   ]
  },
  {
   "cell_type": "code",
   "execution_count": 49,
   "id": "36854687",
   "metadata": {},
   "outputs": [
    {
     "name": "stdout",
     "output_type": "stream",
     "text": [
      "CPU times: user 41min 25s, sys: 6min 7s, total: 47min 32s\n",
      "Wall time: 27min 23s\n"
     ]
    },
    {
     "data": {
      "text/plain": [
       "LinearRegression()"
      ]
     },
     "execution_count": 49,
     "metadata": {},
     "output_type": "execute_result"
    }
   ],
   "source": [
    "%%time\n",
    "log_model = LinearRegression()\n",
    "log_model.fit(sparse_learn_data,\\\n",
    "              data_for_linear_reg['total_amount'])"
   ]
  },
  {
   "cell_type": "code",
   "execution_count": 50,
   "id": "bca64a3e",
   "metadata": {},
   "outputs": [
    {
     "data": {
      "text/html": [
       "<div>\n",
       "<style scoped>\n",
       "    .dataframe tbody tr th:only-of-type {\n",
       "        vertical-align: middle;\n",
       "    }\n",
       "\n",
       "    .dataframe tbody tr th {\n",
       "        vertical-align: top;\n",
       "    }\n",
       "\n",
       "    .dataframe thead th {\n",
       "        text-align: right;\n",
       "    }\n",
       "</style>\n",
       "<table border=\"1\" class=\"dataframe\">\n",
       "  <thead>\n",
       "    <tr style=\"text-align: right;\">\n",
       "      <th></th>\n",
       "      <th>coef</th>\n",
       "    </tr>\n",
       "  </thead>\n",
       "  <tbody>\n",
       "    <tr>\n",
       "      <th>improvement_surcharge</th>\n",
       "      <td>2.664869</td>\n",
       "    </tr>\n",
       "    <tr>\n",
       "      <th>mta_tax</th>\n",
       "      <td>2.022696</td>\n",
       "    </tr>\n",
       "    <tr>\n",
       "      <th>way=152_78</th>\n",
       "      <td>1.611669</td>\n",
       "    </tr>\n",
       "    <tr>\n",
       "      <th>way=155_127</th>\n",
       "      <td>1.408474</td>\n",
       "    </tr>\n",
       "    <tr>\n",
       "      <th>way=124_171</th>\n",
       "      <td>1.367896</td>\n",
       "    </tr>\n",
       "  </tbody>\n",
       "</table>\n",
       "</div>"
      ],
      "text/plain": [
       "                           coef\n",
       "improvement_surcharge  2.664869\n",
       "mta_tax                2.022696\n",
       "way=152_78             1.611669\n",
       "way=155_127            1.408474\n",
       "way=124_171            1.367896"
      ]
     },
     "execution_count": 50,
     "metadata": {},
     "output_type": "execute_result"
    }
   ],
   "source": [
    "coef_df = pd.DataFrame(log_model.coef_, index=np.hstack([ohe_encode_columns_sparse,\\\n",
    "                                                         data_for_linear_reg.drop('total_amount',axis=1).columns]),\\\n",
    "                       columns=['coef']).sort_values(by='coef', ascending=False)\n",
    "                       \n",
    "coef_df.head()"
   ]
  },
  {
   "cell_type": "code",
   "execution_count": 51,
   "id": "c9f4ccfb",
   "metadata": {},
   "outputs": [
    {
     "data": {
      "text/plain": [
       "(44451, 1)"
      ]
     },
     "execution_count": 51,
     "metadata": {},
     "output_type": "execute_result"
    }
   ],
   "source": [
    "coef_df.shape"
   ]
  },
  {
   "cell_type": "code",
   "execution_count": 52,
   "id": "22105262",
   "metadata": {},
   "outputs": [
    {
     "data": {
      "image/png": "[encoded data removed]",
      "text/plain": [
       "<Figure size 1080x288 with 1 Axes>"
      ]
     },
     "metadata": {},
     "output_type": "display_data"
    }
   ],
   "source": [
    "# посмотрим первые 20 признаков (признаки, сильнее всего способствующие росту цены)\n",
    "sns.barplot(data=coef_df.iloc[:20,:].reset_index(), y='coef', x='index')\n",
    "plt.xticks(rotation=90, fontsize=18)\n",
    "plt.show()"
   ]
  },
  {
   "cell_type": "code",
   "execution_count": 53,
   "id": "6b79e911",
   "metadata": {},
   "outputs": [
    {
     "data": {
      "text/html": [
       "<div>\n",
       "<style scoped>\n",
       "    .dataframe tbody tr th:only-of-type {\n",
       "        vertical-align: middle;\n",
       "    }\n",
       "\n",
       "    .dataframe tbody tr th {\n",
       "        vertical-align: top;\n",
       "    }\n",
       "\n",
       "    .dataframe thead th {\n",
       "        text-align: right;\n",
       "    }\n",
       "</style>\n",
       "<table border=\"1\" class=\"dataframe\">\n",
       "  <thead>\n",
       "    <tr style=\"text-align: right;\">\n",
       "      <th></th>\n",
       "      <th>index</th>\n",
       "      <th>coef</th>\n",
       "    </tr>\n",
       "  </thead>\n",
       "  <tbody>\n",
       "    <tr>\n",
       "      <th>42</th>\n",
       "      <td>extra</td>\n",
       "      <td>0.634676</td>\n",
       "    </tr>\n",
       "    <tr>\n",
       "      <th>52</th>\n",
       "      <td>congestion_surcharge</td>\n",
       "      <td>0.608081</td>\n",
       "    </tr>\n",
       "  </tbody>\n",
       "</table>\n",
       "</div>"
      ],
      "text/plain": [
       "                   index      coef\n",
       "42                 extra  0.634676\n",
       "52  congestion_surcharge  0.608081"
      ]
     },
     "execution_count": 53,
     "metadata": {},
     "output_type": "execute_result"
    }
   ],
   "source": [
    "# посмотрим, где находятся признаки congestion_surcharge и extra\n",
    "coef_df.reset_index()[coef_df.reset_index()['index'].isin(['congestion_surcharge','extra'])]"
   ]
  },
  {
   "cell_type": "markdown",
   "id": "0ef93ea5",
   "metadata": {},
   "source": [
    "Видно, что такие признаки как improvement_surcharge, mta_tax, tolls_amount, tip_amount, fare_amount, congestion_surcharge, extra оказывают наибольшее влияние на целевую переменную (чем больше признак, тем выше суммарная стоимость), что очевидно, поскольку итоговая цена получается из линейной комбинации этих признаков:\n",
    "$\\text{fare_amount} + \\text{extra} + \\text{mta_tax} + \\text{improvement_surcharge} + \\text{congestion_surcharge} = \\text{tolls_amount} + \\text{fare_amount} = \\text{total_amount}$.\n",
    "Проще говоря, суммарная стоимость складывается из суммы различных сборов за поедку (tolls_amount) + стоимость, посчитанная счетчиком (fare_amount)."
   ]
  },
  {
   "cell_type": "markdown",
   "id": "156e9a96",
   "metadata": {},
   "source": [
    "Чтобы оценить влияние остальных факторов на итоговую стоимость, обучим только на них линейную регрессию"
   ]
  },
  {
   "cell_type": "code",
   "execution_count": 49,
   "id": "6869ab5f",
   "metadata": {},
   "outputs": [],
   "source": [
    "data_for_linear_reg = data_for_linear_reg.drop(['improvement_surcharge', 'mta_tax', 'tolls_amount',\\\n",
    "                                                            'tip_amount','fare_amount', 'congestion_surcharge',\\\n",
    "                                                            'extra'],axis=1)\n",
    "sparse_learn_data = sparse.hstack([ohe_encode_features_sparse,\\\n",
    "                                   data_for_linear_reg.drop('total_amount',axis=1).to_numpy()]).tocsr()"
   ]
  },
  {
   "cell_type": "markdown",
   "id": "81c11fd5",
   "metadata": {},
   "source": [
    "### Оценим среднюю абсолютную ошибку модели (MAE) на отложенной выборке"
   ]
  },
  {
   "cell_type": "code",
   "execution_count": 55,
   "id": "94fc3655",
   "metadata": {},
   "outputs": [],
   "source": [
    "X_train, X_test, y_train, y_test = train_test_split(sparse_learn_data,\\\n",
    "              data_for_linear_reg['total_amount'], test_size=0.3)"
   ]
  },
  {
   "cell_type": "code",
   "execution_count": 56,
   "id": "909f6197",
   "metadata": {},
   "outputs": [
    {
     "name": "stdout",
     "output_type": "stream",
     "text": [
      "CPU times: user 31min 12s, sys: 3min 32s, total: 34min 44s\n",
      "Wall time: 14min 30s\n"
     ]
    },
    {
     "data": {
      "text/plain": [
       "LinearRegression()"
      ]
     },
     "execution_count": 56,
     "metadata": {},
     "output_type": "execute_result"
    }
   ],
   "source": [
    "%%time\n",
    "log_model = LinearRegression()\n",
    "log_model.fit(X_train, y_train)"
   ]
  },
  {
   "cell_type": "code",
   "execution_count": 57,
   "id": "d6a14f72",
   "metadata": {},
   "outputs": [
    {
     "data": {
      "text/plain": [
       "3.075553197786683"
      ]
     },
     "execution_count": 57,
     "metadata": {},
     "output_type": "execute_result"
    }
   ],
   "source": [
    "mean_absolute_error(log_model.predict(X_test), y_test)"
   ]
  },
  {
   "cell_type": "markdown",
   "id": "013a541f",
   "metadata": {},
   "source": [
    "Обучим на всех данных модель"
   ]
  },
  {
   "cell_type": "code",
   "execution_count": 58,
   "id": "7b6ed696",
   "metadata": {},
   "outputs": [
    {
     "name": "stdout",
     "output_type": "stream",
     "text": [
      "CPU times: user 7min 25s, sys: 1min 5s, total: 8min 31s\n",
      "Wall time: 4min 30s\n"
     ]
    },
    {
     "data": {
      "text/plain": [
       "LinearRegression()"
      ]
     },
     "execution_count": 58,
     "metadata": {},
     "output_type": "execute_result"
    }
   ],
   "source": [
    "%%time\n",
    "log_model = LinearRegression()\n",
    "log_model.fit(sparse_learn_data,\\\n",
    "              data_for_linear_reg['total_amount'])"
   ]
  },
  {
   "cell_type": "code",
   "execution_count": 59,
   "id": "104939e4",
   "metadata": {},
   "outputs": [
    {
     "data": {
      "text/html": [
       "<div>\n",
       "<style scoped>\n",
       "    .dataframe tbody tr th:only-of-type {\n",
       "        vertical-align: middle;\n",
       "    }\n",
       "\n",
       "    .dataframe tbody tr th {\n",
       "        vertical-align: top;\n",
       "    }\n",
       "\n",
       "    .dataframe thead th {\n",
       "        text-align: right;\n",
       "    }\n",
       "</style>\n",
       "<table border=\"1\" class=\"dataframe\">\n",
       "  <thead>\n",
       "    <tr style=\"text-align: right;\">\n",
       "      <th></th>\n",
       "      <th>coef</th>\n",
       "    </tr>\n",
       "  </thead>\n",
       "  <tbody>\n",
       "    <tr>\n",
       "      <th>way=256_177</th>\n",
       "      <td>51.315609</td>\n",
       "    </tr>\n",
       "    <tr>\n",
       "      <th>DOLocationID=116</th>\n",
       "      <td>44.570654</td>\n",
       "    </tr>\n",
       "    <tr>\n",
       "      <th>way=51_46</th>\n",
       "      <td>40.873800</td>\n",
       "    </tr>\n",
       "    <tr>\n",
       "      <th>DOLocationID=114</th>\n",
       "      <td>40.220827</td>\n",
       "    </tr>\n",
       "    <tr>\n",
       "      <th>way=17_232</th>\n",
       "      <td>38.951173</td>\n",
       "    </tr>\n",
       "  </tbody>\n",
       "</table>\n",
       "</div>"
      ],
      "text/plain": [
       "                       coef\n",
       "way=256_177       51.315609\n",
       "DOLocationID=116  44.570654\n",
       "way=51_46         40.873800\n",
       "DOLocationID=114  40.220827\n",
       "way=17_232        38.951173"
      ]
     },
     "execution_count": 59,
     "metadata": {},
     "output_type": "execute_result"
    }
   ],
   "source": [
    "coef_df = pd.DataFrame(log_model.coef_, index=np.hstack([ohe_encode_columns_sparse,\\\n",
    "                                                         data_for_linear_reg.drop('total_amount',axis=1).columns]),\\\n",
    "                       columns=['coef']).sort_values(by='coef', ascending=False)\n",
    "coef_df.head()"
   ]
  },
  {
   "cell_type": "code",
   "execution_count": 60,
   "id": "718278a4",
   "metadata": {},
   "outputs": [
    {
     "data": {
      "text/plain": [
       "(44444, 1)"
      ]
     },
     "execution_count": 60,
     "metadata": {},
     "output_type": "execute_result"
    }
   ],
   "source": [
    "coef_df.shape"
   ]
  },
  {
   "cell_type": "code",
   "execution_count": 61,
   "id": "3c8e0abf",
   "metadata": {},
   "outputs": [
    {
     "data": {
      "text/plain": [
       "<AxesSubplot:ylabel='coef'>"
      ]
     },
     "execution_count": 61,
     "metadata": {},
     "output_type": "execute_result"
    },
    {
     "data": {
      "image/png": "[encoded data removed]",
      "text/plain": [
       "<Figure size 1080x288 with 1 Axes>"
      ]
     },
     "metadata": {},
     "output_type": "display_data"
    }
   ],
   "source": [
    "sns.lineplot(data=coef_df, y='coef', x=np.arange(coef_df.shape[0]))"
   ]
  },
  {
   "cell_type": "code",
   "execution_count": 62,
   "id": "a3e40f39",
   "metadata": {},
   "outputs": [
    {
     "data": {
      "image/png": "[encoded data removed]",
      "text/plain": [
       "<Figure size 1080x288 with 1 Axes>"
      ]
     },
     "metadata": {},
     "output_type": "display_data"
    }
   ],
   "source": [
    "# посмотрим 30 наиболее влияющих факторов\n",
    "sns.barplot(data=pd.concat([coef_df.iloc[:15,:].reset_index(),\\\n",
    "                            coef_df.iloc[-15:,:].reset_index()]), y='coef', x='index')\n",
    "plt.xticks(rotation=90, fontsize=18)\n",
    "plt.show()"
   ]
  },
  {
   "cell_type": "markdown",
   "id": "1603516f",
   "metadata": {},
   "source": [
    "Видим, что больше всего на стоимость оказывают влияние определенные маршруты и зоны, откуда забрали и привезли пассажиров, что неудивительно, поскольку маршрутов много и могут найтись такие маршруты, на которых чаще всего цена выходит высокой или низкой. Это может быть связано с различными факторами, например, на маршруте way=4428 часто бывают пробки из-за чего стоимость возрастает, или в зоне PULocation=0 бывает мало таксистов, поэтому спрос на них высокий -> цена повышается.\n",
    "\n",
    "Использование таких признаков в модели для предсказания стоимости поездки должно зависеть от конкретной задачи:\n",
    "- если мы хотим построить модель с хорошей обобщающей способностью, то есть не хотим привязываться к конкретному району, то эти признаки не стоит использовать, иначе модель переобучиться, подгонится под данные.\n",
    "- напротив, если мы хотим научиться предсказывать стоимость поездки в конкретном районе, имеет смысл добавить в качестве признаков различные маршруты и зоны посадки/высадки пассажиров"
   ]
  },
  {
   "cell_type": "markdown",
   "id": "ad6498a8",
   "metadata": {},
   "source": [
    "Чтобы оценить влияние остальных факторов в обобщенном случае (без привязки к конкретному месту, области, городу), обучим линейную регрессию без признаков DOLocationID, way, PULocationID"
   ]
  },
  {
   "cell_type": "code",
   "execution_count": 50,
   "id": "6776feee",
   "metadata": {},
   "outputs": [],
   "source": [
    "data_for_linear_reg = picked_features_df.reset_index(drop=True)\n",
    "encoder = OneHotEncoder()\n",
    "new_ohe_encode_columns = ['VendorID', 'RatecodeID', 'payment_type','trip_type','store_and_fwd_flag','dropoff_date',\n",
    "                         'pickup_date','taxi_type']\n",
    "ohe_encode_features_sparse = encoder.fit_transform(picked_features_df[new_ohe_encode_columns])\n",
    "\n",
    "# заводим список названий oheencoder признаков\n",
    "ohe_encode_columns_sparse = []\n",
    "for column in new_ohe_encode_columns:\n",
    "    ohe_encode_columns_sparse.extend([column + '=' + str(i) for i in picked_features_df[column].unique()])\n",
    "\n",
    "data_for_linear_reg.drop(ohe_encode_columns, axis=1, inplace=True)\n",
    "\n",
    "data_for_linear_reg = data_for_linear_reg.drop(['improvement_surcharge', 'mta_tax', 'tolls_amount',\\\n",
    "                                                            'tip_amount','fare_amount', 'congestion_surcharge',\\\n",
    "                                                            'extra'],axis=1)\n",
    "\n",
    "sparse_learn_data = sparse.hstack([ohe_encode_features_sparse,\\\n",
    "                                   data_for_linear_reg.drop('total_amount',axis=1).to_numpy()]).tocsr()\n",
    "\n"
   ]
  },
  {
   "cell_type": "code",
   "execution_count": 64,
   "id": "85b3db69",
   "metadata": {},
   "outputs": [
    {
     "name": "stdout",
     "output_type": "stream",
     "text": [
      "CPU times: user 59.9 s, sys: 19.9 s, total: 1min 19s\n",
      "Wall time: 1min 5s\n"
     ]
    },
    {
     "data": {
      "text/plain": [
       "LinearRegression()"
      ]
     },
     "execution_count": 64,
     "metadata": {},
     "output_type": "execute_result"
    }
   ],
   "source": [
    "%%time\n",
    "log_model = LinearRegression()\n",
    "log_model.fit(sparse_learn_data,\\\n",
    "              data_for_linear_reg['total_amount'])"
   ]
  },
  {
   "cell_type": "code",
   "execution_count": 65,
   "id": "dbac42bd",
   "metadata": {},
   "outputs": [
    {
     "data": {
      "text/html": [
       "<div>\n",
       "<style scoped>\n",
       "    .dataframe tbody tr th:only-of-type {\n",
       "        vertical-align: middle;\n",
       "    }\n",
       "\n",
       "    .dataframe tbody tr th {\n",
       "        vertical-align: top;\n",
       "    }\n",
       "\n",
       "    .dataframe thead th {\n",
       "        text-align: right;\n",
       "    }\n",
       "</style>\n",
       "<table border=\"1\" class=\"dataframe\">\n",
       "  <thead>\n",
       "    <tr style=\"text-align: right;\">\n",
       "      <th></th>\n",
       "      <th>coef</th>\n",
       "    </tr>\n",
       "  </thead>\n",
       "  <tbody>\n",
       "    <tr>\n",
       "      <th>RatecodeID=5.0</th>\n",
       "      <td>23.649496</td>\n",
       "    </tr>\n",
       "    <tr>\n",
       "      <th>trip_type=1.0</th>\n",
       "      <td>23.072001</td>\n",
       "    </tr>\n",
       "    <tr>\n",
       "      <th>RatecodeID=4.0</th>\n",
       "      <td>17.409229</td>\n",
       "    </tr>\n",
       "    <tr>\n",
       "      <th>payment_type=2.0</th>\n",
       "      <td>7.078979</td>\n",
       "    </tr>\n",
       "    <tr>\n",
       "      <th>RatecodeID=3.0</th>\n",
       "      <td>5.038246</td>\n",
       "    </tr>\n",
       "  </tbody>\n",
       "</table>\n",
       "</div>"
      ],
      "text/plain": [
       "                       coef\n",
       "RatecodeID=5.0    23.649496\n",
       "trip_type=1.0     23.072001\n",
       "RatecodeID=4.0    17.409229\n",
       "payment_type=2.0   7.078979\n",
       "RatecodeID=3.0     5.038246"
      ]
     },
     "execution_count": 65,
     "metadata": {},
     "output_type": "execute_result"
    }
   ],
   "source": [
    "coef_df = pd.DataFrame(log_model.coef_, index=np.hstack([ohe_encode_columns_sparse,\\\n",
    "                                                         data_for_linear_reg.drop('total_amount',axis=1).columns]),\\\n",
    "                       columns=['coef']).sort_values(by='coef', ascending=False)\n",
    "coef_df.head()"
   ]
  },
  {
   "cell_type": "code",
   "execution_count": 66,
   "id": "ac7d2ef3",
   "metadata": {},
   "outputs": [
    {
     "data": {
      "text/plain": [
       "(154, 1)"
      ]
     },
     "execution_count": 66,
     "metadata": {},
     "output_type": "execute_result"
    }
   ],
   "source": [
    "coef_df.shape"
   ]
  },
  {
   "cell_type": "code",
   "execution_count": 67,
   "id": "9d3ea093",
   "metadata": {},
   "outputs": [
    {
     "data": {
      "image/png": "[encoded data removed]",
      "text/plain": [
       "<Figure size 1080x288 with 1 Axes>"
      ]
     },
     "metadata": {},
     "output_type": "display_data"
    }
   ],
   "source": [
    "sns.barplot(data=pd.concat([coef_df.iloc[:15,:].reset_index(),\\\n",
    "                            coef_df.iloc[-15:,:].reset_index()]), y='coef', x='index')\n",
    "plt.xticks(rotation=90, fontsize=18)\n",
    "plt.show()"
   ]
  },
  {
   "cell_type": "markdown",
   "id": "3a330500",
   "metadata": {},
   "source": [
    "### RatecodeID"
   ]
  },
  {
   "cell_type": "markdown",
   "id": "8833f395",
   "metadata": {},
   "source": [
    "Из представленной диаграммы видно, что наибольшее влияние на стоимость поездки оказывает тариф поездки (RatecodeID). Причем фактор поездки по обычному тарифу (RatecodeID=1) свидетельствует о низкой стоимости поездки, напротив, поездки из аэропорта (RatecodeID=2), Нью-Джерси(RatecodeID=3) и Багамских островов/Westchester(RatecodeId=4) предполагают, что стоимость поездки будет высокая (из аэропорта выше всего). Действительно, в повседневной жизни поездки из аэропорта обходятся значительно дороже, чем обычные поездки.\n",
    "\n",
    "Фактор договорной цены RatecodeID=5 говорит о том, что поездка скорее всего будет стоить дороже обычного."
   ]
  },
  {
   "cell_type": "markdown",
   "id": "87bfad49",
   "metadata": {},
   "source": [
    "### trip_type"
   ]
  },
  {
   "cell_type": "markdown",
   "id": "60214b52",
   "metadata": {},
   "source": [
    "Также, интересным наблюдением является то, что вызов такси с улицы(trip_type=1) менее выгоден нежели вызов такси по телефону/приложению(trip_type=2). При вызове такси с улицы повышается вероятность заплатить выше средней стоимости, а по телефону, наоборот, ниже средней стоимости."
   ]
  },
  {
   "cell_type": "markdown",
   "id": "ece51a50",
   "metadata": {},
   "source": [
    "### payment_type"
   ]
  },
  {
   "cell_type": "markdown",
   "id": "83a2bbf4",
   "metadata": {},
   "source": [
    "Небольшое влиянение на стоимость поездки оказывает способ оплаты(payment_type), а именно, стоимость поездки, оплаченной картой(payment_type=1) в среднем больше обычной. А фактор payment_type=3 (бесплатная поездка) свидетельствует о том, что в этом случае стоимости поездки в среднем меньше обычной (что логично: 0 < total_amount)."
   ]
  },
  {
   "cell_type": "markdown",
   "id": "39c5b150",
   "metadata": {},
   "source": [
    "Остальные же факторы оказывают незначительное влияние на модель"
   ]
  },
  {
   "cell_type": "markdown",
   "id": "c8246269",
   "metadata": {},
   "source": [
    "# 2) Найдите аномальные поездки. Почему именно эти поездки вы считаете аномальными?"
   ]
  },
  {
   "cell_type": "markdown",
   "id": "bd0f93d2",
   "metadata": {},
   "source": [
    "Аномалиями будем считать выбросы, то есть поездки, значения признаков которых сильно отличаются от большинства."
   ]
  },
  {
   "cell_type": "markdown",
   "id": "9db20dbc",
   "metadata": {},
   "source": [
    "Посмотрим на аномальные значения количественных признаков с помощью boxplot"
   ]
  },
  {
   "cell_type": "code",
   "execution_count": 68,
   "id": "b8ead115",
   "metadata": {},
   "outputs": [],
   "source": [
    "numerical_features = ['passenger_count','trip_distance','fare_amount','tip_amount','total_amount','trip_time']"
   ]
  },
  {
   "cell_type": "code",
   "execution_count": 69,
   "id": "4f6e9bd4",
   "metadata": {},
   "outputs": [
    {
     "data": {
      "image/png": "[encoded data removed]",
      "text/plain": [
       "<Figure size 1080x576 with 6 Axes>"
      ]
     },
     "metadata": {},
     "output_type": "display_data"
    }
   ],
   "source": [
    "fig, ax = plt.subplots(2,3,figsize=(15,8))\n",
    "i = 0\n",
    "for feature in numerical_features:\n",
    "    if feature == 'tip_amount':\n",
    "        sns.boxplot(np.log(np.log(picked_features_df[feature])), ax=ax[i // 3][i % 3])\n",
    "    else:\n",
    "        sns.boxplot(np.log(picked_features_df[feature]), ax=ax[i // 3][i % 3])\n",
    "    i += 1"
   ]
  },
  {
   "cell_type": "markdown",
   "id": "1d7c6f1b",
   "metadata": {},
   "source": [
    "На графиках boxplot отдельными точками представлены аномалии (в логарифмических шкалах). Они соответствуют значениям, не входящим в промежуток: $[Q1 - 1.5 * IQR; Q3 + 1.5 * IQR]$, где\n",
    "- Q1 - первый квартиль\n",
    "- Q3 - третий квартиль\n",
    "- IQR - интерквартильный размах"
   ]
  },
  {
   "cell_type": "markdown",
   "id": "fbdcf45a",
   "metadata": {},
   "source": [
    "В качестве примера приведем поездку, общая стоимость которой больше 300000 долларов"
   ]
  },
  {
   "cell_type": "code",
   "execution_count": 70,
   "id": "a1c72be6",
   "metadata": {},
   "outputs": [
    {
     "data": {
      "text/html": [
       "<div>\n",
       "<style scoped>\n",
       "    .dataframe tbody tr th:only-of-type {\n",
       "        vertical-align: middle;\n",
       "    }\n",
       "\n",
       "    .dataframe tbody tr th {\n",
       "        vertical-align: top;\n",
       "    }\n",
       "\n",
       "    .dataframe thead th {\n",
       "        text-align: right;\n",
       "    }\n",
       "</style>\n",
       "<table border=\"1\" class=\"dataframe\">\n",
       "  <thead>\n",
       "    <tr style=\"text-align: right;\">\n",
       "      <th></th>\n",
       "      <th>3812021</th>\n",
       "    </tr>\n",
       "  </thead>\n",
       "  <tbody>\n",
       "    <tr>\n",
       "      <th>VendorID</th>\n",
       "      <td>1.0</td>\n",
       "    </tr>\n",
       "    <tr>\n",
       "      <th>passenger_count</th>\n",
       "      <td>1.0</td>\n",
       "    </tr>\n",
       "    <tr>\n",
       "      <th>trip_distance</th>\n",
       "      <td>0.0</td>\n",
       "    </tr>\n",
       "    <tr>\n",
       "      <th>RatecodeID</th>\n",
       "      <td>1.0</td>\n",
       "    </tr>\n",
       "    <tr>\n",
       "      <th>store_and_fwd_flag</th>\n",
       "      <td>Y</td>\n",
       "    </tr>\n",
       "    <tr>\n",
       "      <th>PULocationID</th>\n",
       "      <td>236</td>\n",
       "    </tr>\n",
       "    <tr>\n",
       "      <th>DOLocationID</th>\n",
       "      <td>237</td>\n",
       "    </tr>\n",
       "    <tr>\n",
       "      <th>payment_type</th>\n",
       "      <td>4.0</td>\n",
       "    </tr>\n",
       "    <tr>\n",
       "      <th>fare_amount</th>\n",
       "      <td>398468.38</td>\n",
       "    </tr>\n",
       "    <tr>\n",
       "      <th>extra</th>\n",
       "      <td>2.5</td>\n",
       "    </tr>\n",
       "    <tr>\n",
       "      <th>mta_tax</th>\n",
       "      <td>0.32</td>\n",
       "    </tr>\n",
       "    <tr>\n",
       "      <th>tip_amount</th>\n",
       "      <td>0.0</td>\n",
       "    </tr>\n",
       "    <tr>\n",
       "      <th>tolls_amount</th>\n",
       "      <td>0.0</td>\n",
       "    </tr>\n",
       "    <tr>\n",
       "      <th>improvement_surcharge</th>\n",
       "      <td>0.0</td>\n",
       "    </tr>\n",
       "    <tr>\n",
       "      <th>congestion_surcharge</th>\n",
       "      <td>2.5</td>\n",
       "    </tr>\n",
       "    <tr>\n",
       "      <th>taxi_type</th>\n",
       "      <td>1</td>\n",
       "    </tr>\n",
       "    <tr>\n",
       "      <th>trip_type</th>\n",
       "      <td>1.0</td>\n",
       "    </tr>\n",
       "    <tr>\n",
       "      <th>total_amount</th>\n",
       "      <td>398471.2</td>\n",
       "    </tr>\n",
       "    <tr>\n",
       "      <th>pickup_date</th>\n",
       "      <td>2019-12-16</td>\n",
       "    </tr>\n",
       "    <tr>\n",
       "      <th>dropoff_date</th>\n",
       "      <td>2019-12-16</td>\n",
       "    </tr>\n",
       "    <tr>\n",
       "      <th>pickup_year</th>\n",
       "      <td>2019</td>\n",
       "    </tr>\n",
       "    <tr>\n",
       "      <th>dropoff_year</th>\n",
       "      <td>2019</td>\n",
       "    </tr>\n",
       "    <tr>\n",
       "      <th>pickup_month</th>\n",
       "      <td>12</td>\n",
       "    </tr>\n",
       "    <tr>\n",
       "      <th>dropoff_month</th>\n",
       "      <td>12</td>\n",
       "    </tr>\n",
       "    <tr>\n",
       "      <th>pickup_dayofweek</th>\n",
       "      <td>0</td>\n",
       "    </tr>\n",
       "    <tr>\n",
       "      <th>dropoff_dayofweek</th>\n",
       "      <td>0</td>\n",
       "    </tr>\n",
       "    <tr>\n",
       "      <th>pickup_hour</th>\n",
       "      <td>15</td>\n",
       "    </tr>\n",
       "    <tr>\n",
       "      <th>dropoff_hour</th>\n",
       "      <td>15</td>\n",
       "    </tr>\n",
       "    <tr>\n",
       "      <th>trip_time</th>\n",
       "      <td>840.0</td>\n",
       "    </tr>\n",
       "    <tr>\n",
       "      <th>way</th>\n",
       "      <td>236_237</td>\n",
       "    </tr>\n",
       "  </tbody>\n",
       "</table>\n",
       "</div>"
      ],
      "text/plain": [
       "                          3812021\n",
       "VendorID                      1.0\n",
       "passenger_count               1.0\n",
       "trip_distance                 0.0\n",
       "RatecodeID                    1.0\n",
       "store_and_fwd_flag              Y\n",
       "PULocationID                  236\n",
       "DOLocationID                  237\n",
       "payment_type                  4.0\n",
       "fare_amount             398468.38\n",
       "extra                         2.5\n",
       "mta_tax                      0.32\n",
       "tip_amount                    0.0\n",
       "tolls_amount                  0.0\n",
       "improvement_surcharge         0.0\n",
       "congestion_surcharge          2.5\n",
       "taxi_type                       1\n",
       "trip_type                     1.0\n",
       "total_amount             398471.2\n",
       "pickup_date            2019-12-16\n",
       "dropoff_date           2019-12-16\n",
       "pickup_year                  2019\n",
       "dropoff_year                 2019\n",
       "pickup_month                   12\n",
       "dropoff_month                  12\n",
       "pickup_dayofweek                0\n",
       "dropoff_dayofweek               0\n",
       "pickup_hour                    15\n",
       "dropoff_hour                   15\n",
       "trip_time                   840.0\n",
       "way                       236_237"
      ]
     },
     "execution_count": 70,
     "metadata": {},
     "output_type": "execute_result"
    }
   ],
   "source": [
    "picked_features_df[picked_features_df['total_amount'] > 300000].T"
   ]
  },
  {
   "cell_type": "markdown",
   "id": "3e2399cc",
   "metadata": {},
   "source": [
    "Видим, что пассажир не проехал ни сколько (trip_distance = 0) и тем не менее счетчик (fare_amount) намотал 398471,2 долларов, что невозможно, из-за чего клиент отказался платить (payment_type=4 - Dispute)"
   ]
  },
  {
   "cell_type": "markdown",
   "id": "3d9bf266",
   "metadata": {},
   "source": [
    "Аномалии сразу по многим факторам можно выявлять методами машинного обучения такими как, к примеру, IsolationForest, OneClassSVM. Однако, поскольку данных много, обучить их сразу на всех не получится."
   ]
  },
  {
   "cell_type": "markdown",
   "id": "e64ef94c",
   "metadata": {},
   "source": [
    "# 3) Постройте распределение по стоимости поездок. Проверьте гипотезу о том, что оно имеет нормальное распределение. Как вы можете это объяснить?"
   ]
  },
  {
   "cell_type": "code",
   "execution_count": 71,
   "id": "67a7cfc5",
   "metadata": {},
   "outputs": [
    {
     "data": {
      "text/plain": [
       "<AxesSubplot:ylabel='Density'>"
      ]
     },
     "execution_count": 71,
     "metadata": {},
     "output_type": "execute_result"
    },
    {
     "data": {
      "image/png": "[encoded data removed]",
      "text/plain": [
       "<Figure size 1080x288 with 1 Axes>"
      ]
     },
     "metadata": {},
     "output_type": "display_data"
    }
   ],
   "source": [
    "picked_features_df['total_amount'].plot(kind='density')"
   ]
  },
  {
   "cell_type": "code",
   "execution_count": 72,
   "id": "3a3520a9",
   "metadata": {},
   "outputs": [],
   "source": [
    "Q1 = np.quantile(picked_features_df['total_amount'], q=0.25)\n",
    "Q3 = np.quantile(picked_features_df['total_amount'], q=0.75)\n",
    "IQR = Q3 - Q1\n",
    "left = Q1 - 1.5 * IQR\n",
    "right = Q3 + 1.5 * IQR\n",
    "\n",
    "total_amount_df = picked_features_df[(picked_features_df['total_amount'] < right) &\\\n",
    "                                     (picked_features_df['total_amount'] > left)]['total_amount']"
   ]
  },
  {
   "cell_type": "code",
   "execution_count": 73,
   "id": "3007447c",
   "metadata": {},
   "outputs": [
    {
     "data": {
      "text/plain": [
       "<AxesSubplot:ylabel='Density'>"
      ]
     },
     "execution_count": 73,
     "metadata": {},
     "output_type": "execute_result"
    },
    {
     "data": {
      "image/png": "[encoded data removed]",
      "text/plain": [
       "<Figure size 1080x288 with 1 Axes>"
      ]
     },
     "metadata": {},
     "output_type": "display_data"
    }
   ],
   "source": [
    "# уберем выбросы и посмотрим на распределение без них\n",
    "total_amount_df.plot(kind='density')"
   ]
  },
  {
   "cell_type": "markdown",
   "id": "848b2bbf",
   "metadata": {},
   "source": [
    "Видим, что распределение ассиметрично."
   ]
  },
  {
   "cell_type": "code",
   "execution_count": 74,
   "id": "8b8cb342",
   "metadata": {},
   "outputs": [
    {
     "data": {
      "image/png": "[encoded data removed]",
      "text/plain": [
       "<Figure size 288x288 with 1 Axes>"
      ]
     },
     "metadata": {},
     "output_type": "display_data"
    }
   ],
   "source": [
    "# построим qq-plot\n",
    "fig, ax = plt.subplots(figsize=(4,4))\n",
    "stats.probplot(picked_features_df['total_amount'], dist=\"norm\", plot=ax)\n",
    "plt.show()"
   ]
  },
  {
   "cell_type": "markdown",
   "id": "f1faf906",
   "metadata": {},
   "source": [
    "Очевидно, что распределение не нормальное, применим тест Shapiro-Wilk: за нулевую гипотезу H0 берем, что данная выборка взята из генеральной совокупности, распределение которой нормальное."
   ]
  },
  {
   "cell_type": "code",
   "execution_count": 75,
   "id": "e5bc52c7",
   "metadata": {},
   "outputs": [
    {
     "data": {
      "text/plain": [
       "ShapiroResult(statistic=0.013708651065826416, pvalue=0.0)"
      ]
     },
     "execution_count": 75,
     "metadata": {},
     "output_type": "execute_result"
    }
   ],
   "source": [
    "stats.shapiro(picked_features_df['total_amount'])"
   ]
  },
  {
   "cell_type": "markdown",
   "id": "6215e51a",
   "metadata": {},
   "source": [
    "Получаем, что вероятность получить такие и еще более значимые различия с ГС равна 0%, т.е. нулевая гипотеза отвергается, поездки распределены не нормально."
   ]
  },
  {
   "cell_type": "markdown",
   "id": "111c981e",
   "metadata": {},
   "source": [
    "Попробуем сгладить стоимость применением преобразования Бокса-Кокса"
   ]
  },
  {
   "cell_type": "code",
   "execution_count": 76,
   "id": "dcac557a",
   "metadata": {},
   "outputs": [
    {
     "data": {
      "text/plain": [
       "-1472.8"
      ]
     },
     "execution_count": 76,
     "metadata": {},
     "output_type": "execute_result"
    }
   ],
   "source": [
    "picked_features_df['total_amount'].min()"
   ]
  },
  {
   "cell_type": "code",
   "execution_count": 77,
   "id": "0cc86802",
   "metadata": {},
   "outputs": [],
   "source": [
    "total_amount_df = stats.boxcox(1474 + picked_features_df['total_amount'])[0]"
   ]
  },
  {
   "cell_type": "code",
   "execution_count": 78,
   "id": "1b2c0bf2",
   "metadata": {},
   "outputs": [
    {
     "data": {
      "text/plain": [
       "<seaborn.axisgrid.FacetGrid at 0x7fb4752dc910>"
      ]
     },
     "execution_count": 78,
     "metadata": {},
     "output_type": "execute_result"
    },
    {
     "data": {
      "image/png": "[encoded data removed]",
      "text/plain": [
       "<Figure size 360x360 with 1 Axes>"
      ]
     },
     "metadata": {},
     "output_type": "display_data"
    }
   ],
   "source": [
    "sns.displot(total_amount_df, kind='kde')"
   ]
  },
  {
   "cell_type": "code",
   "execution_count": 79,
   "id": "e3950a77",
   "metadata": {},
   "outputs": [
    {
     "data": {
      "image/png": "[encoded data removed]",
      "text/plain": [
       "<Figure size 288x288 with 1 Axes>"
      ]
     },
     "metadata": {},
     "output_type": "display_data"
    }
   ],
   "source": [
    "fig, ax = plt.subplots(figsize=(4,4))\n",
    "stats.probplot(total_amount_df, dist=\"norm\", plot=ax)\n",
    "plt.show()"
   ]
  },
  {
   "cell_type": "code",
   "execution_count": 80,
   "id": "0b93eda6",
   "metadata": {},
   "outputs": [
    {
     "data": {
      "text/plain": [
       "ShapiroResult(statistic=0.0019497275352478027, pvalue=0.0)"
      ]
     },
     "execution_count": 80,
     "metadata": {},
     "output_type": "execute_result"
    }
   ],
   "source": [
    "stats.shapiro(total_amount_df)"
   ]
  },
  {
   "cell_type": "markdown",
   "id": "e0a62492",
   "metadata": {},
   "source": [
    "Не успешно"
   ]
  },
  {
   "cell_type": "markdown",
   "id": "033614d6",
   "metadata": {},
   "source": [
    "# 4) Из данных постройте модель, которая описывает тариф (т.е. стоимость поездки от других факторов).\n",
    "# 5) Используя модель из пункта выше ответьте на вопрос: были ли в какие-то дни (или временные промежутки) скидки или акции? И если то были, то как вы можете это объяснить."
   ]
  },
  {
   "cell_type": "markdown",
   "id": "ce474659",
   "metadata": {},
   "source": [
    "Используя в 1 пункте последнюю линейную модель без привязки к конкретному месту (без признаков DOLocationID, way, PULocationID), видно, что каких-то скидок или акций в конкретные дни для всех не было, иначе бы признаки pickup_date=... и dropoff_date=... имели бы большой коэффициент при линейной регрессии"
   ]
  },
  {
   "cell_type": "code",
   "execution_count": 81,
   "id": "1452fda1",
   "metadata": {},
   "outputs": [
    {
     "data": {
      "image/png": "[encoded data removed]",
      "text/plain": [
       "<Figure size 1080x288 with 1 Axes>"
      ]
     },
     "metadata": {},
     "output_type": "display_data"
    }
   ],
   "source": [
    "sns.barplot(data=pd.concat([coef_df.iloc[:15,:].reset_index(),\\\n",
    "                            coef_df.iloc[-15:,:].reset_index()]), y='coef', x='index')\n",
    "plt.xticks(rotation=90, fontsize=18)\n",
    "plt.show()"
   ]
  },
  {
   "cell_type": "markdown",
   "id": "c8a95f59",
   "metadata": {},
   "source": [
    "Посмотрим, какие коэффициенты вида pickup_date=$datetime$ и dropoff_datetime=$datetime$ оказывают отрицательное влияние на стоимость (при наличии данного фактора цена падает)"
   ]
  },
  {
   "cell_type": "code",
   "execution_count": 82,
   "id": "b15f8086",
   "metadata": {},
   "outputs": [],
   "source": [
    "coef_df = coef_df.reset_index()"
   ]
  },
  {
   "cell_type": "code",
   "execution_count": 106,
   "id": "0c100a69",
   "metadata": {},
   "outputs": [
    {
     "data": {
      "text/html": [
       "<div>\n",
       "<style scoped>\n",
       "    .dataframe tbody tr th:only-of-type {\n",
       "        vertical-align: middle;\n",
       "    }\n",
       "\n",
       "    .dataframe tbody tr th {\n",
       "        vertical-align: top;\n",
       "    }\n",
       "\n",
       "    .dataframe thead th {\n",
       "        text-align: right;\n",
       "    }\n",
       "</style>\n",
       "<table border=\"1\" class=\"dataframe\">\n",
       "  <thead>\n",
       "    <tr style=\"text-align: right;\">\n",
       "      <th></th>\n",
       "      <th>index</th>\n",
       "      <th>coef</th>\n",
       "    </tr>\n",
       "  </thead>\n",
       "  <tbody>\n",
       "    <tr>\n",
       "      <th>133</th>\n",
       "      <td>pickup_date=2019-12-02</td>\n",
       "      <td>-0.427601</td>\n",
       "    </tr>\n",
       "    <tr>\n",
       "      <th>136</th>\n",
       "      <td>pickup_date=2020-01-04</td>\n",
       "      <td>-0.472962</td>\n",
       "    </tr>\n",
       "    <tr>\n",
       "      <th>137</th>\n",
       "      <td>pickup_date=2019-12-06</td>\n",
       "      <td>-0.512227</td>\n",
       "    </tr>\n",
       "    <tr>\n",
       "      <th>138</th>\n",
       "      <td>pickup_date=2019-12-08</td>\n",
       "      <td>-0.517357</td>\n",
       "    </tr>\n",
       "    <tr>\n",
       "      <th>139</th>\n",
       "      <td>pickup_date=2020-01-18</td>\n",
       "      <td>-0.525293</td>\n",
       "    </tr>\n",
       "    <tr>\n",
       "      <th>142</th>\n",
       "      <td>pickup_date=2020-01-16</td>\n",
       "      <td>-0.677534</td>\n",
       "    </tr>\n",
       "    <tr>\n",
       "      <th>143</th>\n",
       "      <td>pickup_date=2020-01-10</td>\n",
       "      <td>-0.681682</td>\n",
       "    </tr>\n",
       "    <tr>\n",
       "      <th>144</th>\n",
       "      <td>pickup_date=2020-01-09</td>\n",
       "      <td>-0.713363</td>\n",
       "    </tr>\n",
       "    <tr>\n",
       "      <th>147</th>\n",
       "      <td>pickup_date=2020-01-21</td>\n",
       "      <td>-0.879028</td>\n",
       "    </tr>\n",
       "    <tr>\n",
       "      <th>148</th>\n",
       "      <td>pickup_date=2020-01-02</td>\n",
       "      <td>-0.980328</td>\n",
       "    </tr>\n",
       "  </tbody>\n",
       "</table>\n",
       "</div>"
      ],
      "text/plain": [
       "                      index      coef\n",
       "133  pickup_date=2019-12-02 -0.427601\n",
       "136  pickup_date=2020-01-04 -0.472962\n",
       "137  pickup_date=2019-12-06 -0.512227\n",
       "138  pickup_date=2019-12-08 -0.517357\n",
       "139  pickup_date=2020-01-18 -0.525293\n",
       "142  pickup_date=2020-01-16 -0.677534\n",
       "143  pickup_date=2020-01-10 -0.681682\n",
       "144  pickup_date=2020-01-09 -0.713363\n",
       "147  pickup_date=2020-01-21 -0.879028\n",
       "148  pickup_date=2020-01-02 -0.980328"
      ]
     },
     "execution_count": 106,
     "metadata": {},
     "output_type": "execute_result"
    }
   ],
   "source": [
    "# отберем 10 значащих дат\n",
    "pickup_date_df = coef_df[coef_df['index'].str.startswith('pickup_date=')].sort_values(by='coef', ascending=False)\n",
    "pickup_date_main_df = pickup_date_df.iloc[-10:,:]\n",
    "pickup_date_main_df"
   ]
  },
  {
   "cell_type": "code",
   "execution_count": 107,
   "id": "9ea27f76",
   "metadata": {},
   "outputs": [
    {
     "data": {
      "image/png": "[encoded data removed]",
      "text/plain": [
       "<Figure size 1080x288 with 1 Axes>"
      ]
     },
     "metadata": {},
     "output_type": "display_data"
    }
   ],
   "source": [
    "fig, ax = plt.subplots(figsize=(15,4))\n",
    "sns.barplot(data=pickup_date_main_df, y='coef', x='index')\n",
    "plt.xticks(rotation=45, fontsize=14)\n",
    "plt.show()"
   ]
  },
  {
   "cell_type": "code",
   "execution_count": 109,
   "id": "a03e40fb",
   "metadata": {},
   "outputs": [
    {
     "data": {
      "text/html": [
       "<div>\n",
       "<style scoped>\n",
       "    .dataframe tbody tr th:only-of-type {\n",
       "        vertical-align: middle;\n",
       "    }\n",
       "\n",
       "    .dataframe tbody tr th {\n",
       "        vertical-align: top;\n",
       "    }\n",
       "\n",
       "    .dataframe thead th {\n",
       "        text-align: right;\n",
       "    }\n",
       "</style>\n",
       "<table border=\"1\" class=\"dataframe\">\n",
       "  <thead>\n",
       "    <tr style=\"text-align: right;\">\n",
       "      <th></th>\n",
       "      <th>VendorID</th>\n",
       "      <th>passenger_count</th>\n",
       "      <th>trip_distance</th>\n",
       "      <th>RatecodeID</th>\n",
       "      <th>store_and_fwd_flag</th>\n",
       "      <th>PULocationID</th>\n",
       "      <th>DOLocationID</th>\n",
       "      <th>payment_type</th>\n",
       "      <th>fare_amount</th>\n",
       "      <th>extra</th>\n",
       "      <th>...</th>\n",
       "      <th>pickup_year</th>\n",
       "      <th>dropoff_year</th>\n",
       "      <th>pickup_month</th>\n",
       "      <th>dropoff_month</th>\n",
       "      <th>pickup_dayofweek</th>\n",
       "      <th>dropoff_dayofweek</th>\n",
       "      <th>pickup_hour</th>\n",
       "      <th>dropoff_hour</th>\n",
       "      <th>trip_time</th>\n",
       "      <th>way</th>\n",
       "    </tr>\n",
       "  </thead>\n",
       "  <tbody>\n",
       "    <tr>\n",
       "      <th>2729062</th>\n",
       "      <td>2.0</td>\n",
       "      <td>1.0</td>\n",
       "      <td>1.69</td>\n",
       "      <td>1.0</td>\n",
       "      <td>N</td>\n",
       "      <td>161</td>\n",
       "      <td>234</td>\n",
       "      <td>1.0</td>\n",
       "      <td>11.5</td>\n",
       "      <td>0.0</td>\n",
       "      <td>...</td>\n",
       "      <td>2020</td>\n",
       "      <td>2020</td>\n",
       "      <td>1</td>\n",
       "      <td>1</td>\n",
       "      <td>3</td>\n",
       "      <td>3</td>\n",
       "      <td>3</td>\n",
       "      <td>3</td>\n",
       "      <td>994.0</td>\n",
       "      <td>161_234</td>\n",
       "    </tr>\n",
       "    <tr>\n",
       "      <th>2742172</th>\n",
       "      <td>2.0</td>\n",
       "      <td>1.0</td>\n",
       "      <td>0.81</td>\n",
       "      <td>1.0</td>\n",
       "      <td>N</td>\n",
       "      <td>234</td>\n",
       "      <td>68</td>\n",
       "      <td>1.0</td>\n",
       "      <td>6.0</td>\n",
       "      <td>0.0</td>\n",
       "      <td>...</td>\n",
       "      <td>2020</td>\n",
       "      <td>2020</td>\n",
       "      <td>1</td>\n",
       "      <td>1</td>\n",
       "      <td>3</td>\n",
       "      <td>3</td>\n",
       "      <td>4</td>\n",
       "      <td>4</td>\n",
       "      <td>366.0</td>\n",
       "      <td>234_68</td>\n",
       "    </tr>\n",
       "    <tr>\n",
       "      <th>2742173</th>\n",
       "      <td>2.0</td>\n",
       "      <td>1.0</td>\n",
       "      <td>1.37</td>\n",
       "      <td>1.0</td>\n",
       "      <td>N</td>\n",
       "      <td>68</td>\n",
       "      <td>230</td>\n",
       "      <td>1.0</td>\n",
       "      <td>15.5</td>\n",
       "      <td>0.0</td>\n",
       "      <td>...</td>\n",
       "      <td>2020</td>\n",
       "      <td>2020</td>\n",
       "      <td>1</td>\n",
       "      <td>1</td>\n",
       "      <td>3</td>\n",
       "      <td>3</td>\n",
       "      <td>4</td>\n",
       "      <td>11</td>\n",
       "      <td>26805.0</td>\n",
       "      <td>68_230</td>\n",
       "    </tr>\n",
       "    <tr>\n",
       "      <th>2809988</th>\n",
       "      <td>2.0</td>\n",
       "      <td>1.0</td>\n",
       "      <td>0.97</td>\n",
       "      <td>1.0</td>\n",
       "      <td>N</td>\n",
       "      <td>107</td>\n",
       "      <td>90</td>\n",
       "      <td>1.0</td>\n",
       "      <td>6.5</td>\n",
       "      <td>1.0</td>\n",
       "      <td>...</td>\n",
       "      <td>2020</td>\n",
       "      <td>2020</td>\n",
       "      <td>1</td>\n",
       "      <td>1</td>\n",
       "      <td>3</td>\n",
       "      <td>3</td>\n",
       "      <td>9</td>\n",
       "      <td>9</td>\n",
       "      <td>469.0</td>\n",
       "      <td>107_90</td>\n",
       "    </tr>\n",
       "    <tr>\n",
       "      <th>2809989</th>\n",
       "      <td>2.0</td>\n",
       "      <td>1.0</td>\n",
       "      <td>0.78</td>\n",
       "      <td>1.0</td>\n",
       "      <td>N</td>\n",
       "      <td>186</td>\n",
       "      <td>100</td>\n",
       "      <td>2.0</td>\n",
       "      <td>7.5</td>\n",
       "      <td>1.0</td>\n",
       "      <td>...</td>\n",
       "      <td>2020</td>\n",
       "      <td>2020</td>\n",
       "      <td>1</td>\n",
       "      <td>1</td>\n",
       "      <td>3</td>\n",
       "      <td>3</td>\n",
       "      <td>9</td>\n",
       "      <td>9</td>\n",
       "      <td>600.0</td>\n",
       "      <td>186_100</td>\n",
       "    </tr>\n",
       "  </tbody>\n",
       "</table>\n",
       "<p>5 rows × 30 columns</p>\n",
       "</div>"
      ],
      "text/plain": [
       "         VendorID  passenger_count  trip_distance  RatecodeID  \\\n",
       "2729062       2.0              1.0           1.69         1.0   \n",
       "2742172       2.0              1.0           0.81         1.0   \n",
       "2742173       2.0              1.0           1.37         1.0   \n",
       "2809988       2.0              1.0           0.97         1.0   \n",
       "2809989       2.0              1.0           0.78         1.0   \n",
       "\n",
       "        store_and_fwd_flag  PULocationID  DOLocationID  payment_type  \\\n",
       "2729062                  N           161           234           1.0   \n",
       "2742172                  N           234            68           1.0   \n",
       "2742173                  N            68           230           1.0   \n",
       "2809988                  N           107            90           1.0   \n",
       "2809989                  N           186           100           2.0   \n",
       "\n",
       "         fare_amount  extra  ...  pickup_year  dropoff_year  pickup_month  \\\n",
       "2729062         11.5    0.0  ...         2020          2020             1   \n",
       "2742172          6.0    0.0  ...         2020          2020             1   \n",
       "2742173         15.5    0.0  ...         2020          2020             1   \n",
       "2809988          6.5    1.0  ...         2020          2020             1   \n",
       "2809989          7.5    1.0  ...         2020          2020             1   \n",
       "\n",
       "         dropoff_month  pickup_dayofweek  dropoff_dayofweek  pickup_hour  \\\n",
       "2729062              1                 3                  3            3   \n",
       "2742172              1                 3                  3            4   \n",
       "2742173              1                 3                  3            4   \n",
       "2809988              1                 3                  3            9   \n",
       "2809989              1                 3                  3            9   \n",
       "\n",
       "         dropoff_hour trip_time      way  \n",
       "2729062             3     994.0  161_234  \n",
       "2742172             4     366.0   234_68  \n",
       "2742173            11   26805.0   68_230  \n",
       "2809988             9     469.0   107_90  \n",
       "2809989             9     600.0  186_100  \n",
       "\n",
       "[5 rows x 30 columns]"
      ]
     },
     "execution_count": 109,
     "metadata": {},
     "output_type": "execute_result"
    }
   ],
   "source": [
    "# посмотрим, что за поездки были 2 января 2020 года\n",
    "ja_2_df = picked_features_df[picked_features_df['pickup_date'].astype(str)=='2020-01-02']\n",
    "ja_2_df.head()"
   ]
  },
  {
   "cell_type": "code",
   "execution_count": 130,
   "id": "b6c84583",
   "metadata": {},
   "outputs": [],
   "source": [
    "def compare_total_amount_in_2_dfs_by_col(df1, df1_name, df2, df2_name, col_compare, estimator):\n",
    "    grouped_df1 = df1.groupby(by=col_compare)['total_amount'].median().reset_index()\n",
    "    grouped_df1['hue'] = df1_name\n",
    "    grouped_df2 = df2.groupby(by=col_compare)['total_amount'].median().reset_index()\n",
    "    grouped_df2['hue'] = df2_name\n",
    "    return pd.concat([grouped_df1, grouped_df2], axis=0)"
   ]
  },
  {
   "cell_type": "code",
   "execution_count": 137,
   "id": "52dee429",
   "metadata": {},
   "outputs": [
    {
     "data": {
      "text/plain": [
       "<AxesSubplot:xlabel='payment_type', ylabel='total_amount'>"
      ]
     },
     "execution_count": 137,
     "metadata": {},
     "output_type": "execute_result"
    },
    {
     "data": {
      "image/png": "[encoded data removed]",
      "text/plain": [
       "<Figure size 1080x288 with 1 Axes>"
      ]
     },
     "metadata": {},
     "output_type": "display_data"
    }
   ],
   "source": [
    "# при оплате картой или наличными больших различий в стоимости поездки по всем датам нет\n",
    "compare_df = compare_total_amount_in_2_dfs_by_col(picked_features_df, 'all_dates', ja_2_df, '2020-01-02',\n",
    "                                               'payment_type', np.median)\n",
    "sns.barplot(data=compare_df, x='payment_type', y='total_amount', hue='hue')"
   ]
  },
  {
   "cell_type": "code",
   "execution_count": 138,
   "id": "d305c424",
   "metadata": {},
   "outputs": [
    {
     "data": {
      "text/plain": [
       "<AxesSubplot:xlabel='RatecodeID', ylabel='total_amount'>"
      ]
     },
     "execution_count": 138,
     "metadata": {},
     "output_type": "execute_result"
    },
    {
     "data": {
      "image/png": "[encoded data removed]",
      "text/plain": [
       "<Figure size 1080x288 with 1 Axes>"
      ]
     },
     "metadata": {},
     "output_type": "display_data"
    }
   ],
   "source": [
    "# в разрезе по тарифам (RatecodeID) также не наблюдается больших различий в стоимости поездки по всем датам\n",
    "compare_df = compare_total_amount_in_2_dfs_by_col(picked_features_df, 'all_dates', ja_2_df, '2020-01-02',\n",
    "                                               'RatecodeID', np.median)\n",
    "sns.barplot(data=compare_df, x='RatecodeID', y='total_amount', hue='hue')"
   ]
  }
 ],
 "metadata": {
  "kernelspec": {
   "display_name": "Python 3",
   "language": "python",
   "name": "python3"
  },
  "language_info": {
   "codemirror_mode": {
    "name": "ipython",
    "version": 3
   },
   "file_extension": ".py",
   "mimetype": "text/x-python",
   "name": "python",
   "nbconvert_exporter": "python",
   "pygments_lexer": "ipython3",
   "version": "3.8.8"
  }
 },
 "nbformat": 4,
 "nbformat_minor": 5
}
